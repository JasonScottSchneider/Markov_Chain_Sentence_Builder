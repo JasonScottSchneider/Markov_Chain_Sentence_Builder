{
 "cells": [
  {
   "cell_type": "markdown",
   "id": "civil-wilson",
   "metadata": {},
   "source": [
    "# Markov Chain Sentence Builder\n",
    "This is a program to build random sentences based on the data with sentences fed into it. This program uses a simple Markov chain that checks at every one and two words."
   ]
  },
  {
   "cell_type": "markdown",
   "id": "metric-pathology",
   "metadata": {},
   "source": [
    "## Import Libraries"
   ]
  },
  {
   "cell_type": "code",
   "execution_count": 1,
   "id": "tutorial-dispute",
   "metadata": {},
   "outputs": [],
   "source": [
    "import random\n",
    "from collections import defaultdict"
   ]
  },
  {
   "cell_type": "markdown",
   "id": "bronze-spelling",
   "metadata": {},
   "source": [
    "## Load and Process Corpus"
   ]
  },
  {
   "cell_type": "code",
   "execution_count": 2,
   "id": "working-consultation",
   "metadata": {},
   "outputs": [],
   "source": [
    "def load_training_file(file):\n",
    "    with open(file) as f:\n",
    "        raw_sentences = f.read()\n",
    "        return raw_sentences\n",
    "\n",
    "def prep_training(raw_sentences):\n",
    "    raw_sentences = raw_sentences.strip(\",_”“\")\n",
    "    raw_sentences = raw_sentences.replace('\"', \"\")\n",
    "    raw_sentences = raw_sentences.replace('_', \"\")\n",
    "    raw_sentences = raw_sentences.replace('”', \"\")\n",
    "    raw_sentences = raw_sentences.replace('“', \"\")\n",
    "    corpus = raw_sentences.replace('\\n',' ').split()\n",
    "    return corpus"
   ]
  },
  {
   "cell_type": "markdown",
   "id": "understanding-ownership",
   "metadata": {},
   "source": [
    "## Build Markov Models"
   ]
  },
  {
   "cell_type": "code",
   "execution_count": 3,
   "id": "republican-january",
   "metadata": {},
   "outputs": [],
   "source": [
    "def map_word_to_word(corpus):\n",
    "    limit = len(corpus) - 1\n",
    "    dict1_to_1 = defaultdict(list)\n",
    "    for index, word in enumerate(corpus):\n",
    "        if index < limit:\n",
    "            suffix = corpus[index + 1]\n",
    "            dict1_to_1[word].append(suffix)\n",
    "    return dict1_to_1\n",
    "\n",
    "def map_2_words_to_word(corpus):\n",
    "    limit = len(corpus) - 2\n",
    "    dict2_to_1 = defaultdict(list)\n",
    "    for index, word in enumerate(corpus):\n",
    "        if index < limit:\n",
    "            key = word + ' ' + corpus[index + 1]\n",
    "            suffix = corpus[index + 2]\n",
    "            dict2_to_1[key].append(suffix)\n",
    "    return dict2_to_1"
   ]
  },
  {
   "cell_type": "markdown",
   "id": "veterinary-plasma",
   "metadata": {},
   "source": [
    "## Select Random Seed"
   ]
  },
  {
   "cell_type": "code",
   "execution_count": 4,
   "id": "unknown-agency",
   "metadata": {},
   "outputs": [],
   "source": [
    "def random_word(corpus):            \n",
    "    seed = input(\"Enter a word to start a sentence: \")\n",
    "    if seed in corpus:\n",
    "        word = seed\n",
    "    else:\n",
    "        word = None\n",
    "        print(\"Try another word as a seed that exists in the corpus used.\")      \n",
    "    return word"
   ]
  },
  {
   "cell_type": "markdown",
   "id": "armed-anxiety",
   "metadata": {},
   "source": [
    "## Apply the Markov Models"
   ]
  },
  {
   "cell_type": "code",
   "execution_count": 5,
   "id": "collect-enzyme",
   "metadata": {},
   "outputs": [],
   "source": [
    "def word_after_single(prefix, suffix_map_1):\n",
    "    accepted_words = []\n",
    "    suffixes = suffix_map_1.get(prefix)\n",
    "    if suffixes != None:\n",
    "        for candidate in suffixes:\n",
    "            accepted_words.append(candidate)\n",
    "    return accepted_words\n",
    "\n",
    "def  word_after_double(prefix, suffix_map_2):\n",
    "    accepted_words = []\n",
    "    suffixes = suffix_map_2.get(prefix)\n",
    "    if suffixes != None:\n",
    "        for candidate in suffixes:\n",
    "            accepted_words.append(candidate)\n",
    "    return accepted_words"
   ]
  },
  {
   "cell_type": "markdown",
   "id": "sustained-emphasis",
   "metadata": {},
   "source": [
    "## Build a Sentence"
   ]
  },
  {
   "cell_type": "code",
   "execution_count": 6,
   "id": "seven-brick",
   "metadata": {},
   "outputs": [],
   "source": [
    "def sentence_builder(suffix_map_1, suffix_map_2, corpus):\n",
    "    final_sentence = \"\"\n",
    "    try:\n",
    "        number_of_sentences = int(input(\"How many sentences do you want? \"))\n",
    "    except:\n",
    "        print(\"You entered something other than integers. Enter only integers.\")\n",
    "        return final_sentence\n",
    "    stop_characters = [\".\",\":\",\"!\",\"?\"]\n",
    "    current_sentence = []\n",
    "    word = random_word(corpus)\n",
    "    keep_building = True\n",
    "    if word != None:\n",
    "        current_sentence.append(word)         \n",
    "        for i in range(number_of_sentences):\n",
    "            keep_building = True      \n",
    "            while keep_building == True:\n",
    "                word_choices = word_after_single(word, suffix_map_1)\n",
    "                word = random.choice(word_choices)\n",
    "                current_sentence.append(word)\n",
    "                if any(character in word[-1] for character in stop_characters):\n",
    "                    keep_building = False\n",
    "                    break\n",
    "                prefix = current_sentence[-2] + ' ' + current_sentence[-1]\n",
    "                word_choices = word_after_double(prefix, suffix_map_2)\n",
    "                word = random.choice(word_choices)\n",
    "                current_sentence.append(word)\n",
    "                if any(character in word[-1] for character in stop_characters):\n",
    "                    keep_building = False\n",
    "                    break\n",
    "    else:\n",
    "        pass\n",
    "    for i in current_sentence:\n",
    "        if final_sentence == \"\":\n",
    "            final_sentence = final_sentence + i\n",
    "        else:\n",
    "            final_sentence = final_sentence + ' ' + i\n",
    "    return final_sentence"
   ]
  },
  {
   "cell_type": "markdown",
   "id": "solved-county",
   "metadata": {},
   "source": [
    "## Code to Generate Random Sentences"
   ]
  },
  {
   "cell_type": "code",
   "execution_count": 7,
   "id": "approved-scholarship",
   "metadata": {},
   "outputs": [],
   "source": [
    "raw_sentences = load_training_file(\"Frankenstein.txt\")\n",
    "corpus = prep_training(raw_sentences)\n",
    "suffix_map_1 = map_word_to_word(corpus)\n",
    "suffix_map_2 = map_2_words_to_word(corpus)"
   ]
  },
  {
   "cell_type": "code",
   "execution_count": 15,
   "id": "wooden-costs",
   "metadata": {},
   "outputs": [
    {
     "name": "stdout",
     "output_type": "stream",
     "text": [
      "How many sentences do you want? 30\n",
      "Enter a word to start a sentence: we\n",
      "we saw some straw; she did there, which can conjecture to your fine and the recollection of hunger, thirst, and want of a human being. As the fiend rang in my love, you are too much exalted by my father entered. ‘Pardon this occasion my bosom. But I felt as if I gazed on the morrow was to another would pledge my father, Elizabeth, and Clerval; his presence will, I cannot withstand you if these were covered by cold, I sank on the grass, weighed down to eat. The meal to five hungry babes. Among these employments are mistaken, my college. Clerval continued he became more deep wood, I come on her knees. She rose among dark-leaved brambles. When my sight to your marriage would at Mannheim, and endeavoured, by the other ideas than have consented to return to her deathbed the spot. The sky of heaven, in its solemnisation drew nearer I revolved rapidly in the four months passed in him that no physical secrets of sexes, and I felt depressed; when anyone except through means of materially assisting the cause! A thousand images to attend to me many years. The tale that ever was before, why did not pretend to enter upon a child and terror its dependent mountains, and, more tranquilly, might as well as fast hold of a criminal charge, that had taken from you; leave me to peace in your Justine, whom I seek. Do not feel the wretchedness of a dungeon. It was a merchant had decided as you were moved every feeling in such as even as that obstructed her head and would not live—swear that if the details of her smiles and joy or complacency was torture when he said, the ever-watchful and mountains, obscured in darkness, yet still avoid our union, we walked towards us in the bitterness of grief of my heart; a loud voice, although harsh, but supple; and although his manners which he anticipated with a safe conscience; it will give me, she put on the water, sleeping that impressed me with a manner rendered her mute as she had passed by, but it is a love my cousin or longed, with a good fortune of my destruction. Shall I am? You will be born at Naples, and as well acquainted with the course of Elizabeth, of agitation that lurked in the most violent storm increased every rougher wind died away by the East, as he showed signs of his breast. I took refuge in proper detail, to my gloom disappeared, and we have lost ground in the company of a celestial stamp in all smiled on your wedding-night. I started forward and so, poor girl, whom you mourn still lived, where no longer see that I had become; the energy of my story, and grapple with patience. It is a charm and their native country. My departure renders some months have kissed his behaviour to penetrate the fish play on my favourite companion in the union of light into the plans with the physical secrets of the hills of my friend. His gentleness which I ever find. When I here to the consummation of my letters, my vow was now a silken cord that all joyous and your words I shall soon enter it. Hence there discover the child who dwelt in one of these unusual tranquillity and partly in a fortnight in these wild and when Justine Moritz, who would have promised that clinging love the heroes who have resumed your sympathy, but I was the monster followed me to the moon rose; and I speak. The surgeon gave him back to me hopes are as I think that I thought again cast my arch-enemy, because the declamatory style was unsettled, and the youth passed in this peopled earth. I heard the voice was suffocated with sobs. Rise, my occupations and the abandoned, am an orphan and walked on the cause me any woman who understood very sorry chemist if he had harnessed them, and on it is true; but that inconstant shade. I endeavoured to prove the fact stole across me. Morning dawned before I was oppressed me. I do not think of us to prolong my stay on the moon in the desert that restored to her beauty might discover some person who are accustomed visit to look on her lips, but you to perish in mortal could support me; all the world; it gave wings to detect and tones and hide himself a more attentively, he was wearing away his deliverer by stealth, when I am sorry that I should occur which had that had been imbued with an air of delirium to a prey for delay; I told the evening as that frail image and difficult voyage, he entreated me to me, and hailed a mariner equally neglected. I knew the destroyer had been so deeply than he fills me my request!\n"
     ]
    }
   ],
   "source": [
    "print(sentence_builder(suffix_map_1, suffix_map_2, corpus))"
   ]
  }
 ],
 "metadata": {
  "kernelspec": {
   "display_name": "Python 3",
   "language": "python",
   "name": "python3"
  },
  "language_info": {
   "codemirror_mode": {
    "name": "ipython",
    "version": 3
   },
   "file_extension": ".py",
   "mimetype": "text/x-python",
   "name": "python",
   "nbconvert_exporter": "python",
   "pygments_lexer": "ipython3",
   "version": "3.9.2"
  }
 },
 "nbformat": 4,
 "nbformat_minor": 5
}
