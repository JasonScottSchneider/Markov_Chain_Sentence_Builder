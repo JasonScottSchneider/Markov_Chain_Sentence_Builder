{
 "cells": [
  {
   "cell_type": "markdown",
   "id": "civil-wilson",
   "metadata": {},
   "source": [
    "# Markov Chain Sentence Builder\n",
    "This is a program to build random sentences based on the data with sentences fed into it. This program uses a simple Markov chain that checks at every one and/or two words and/or three words in which the user can choose the number of Markov chains to be applied."
   ]
  },
  {
   "cell_type": "markdown",
   "id": "metric-pathology",
   "metadata": {},
   "source": [
    "## Import Libraries"
   ]
  },
  {
   "cell_type": "code",
   "execution_count": 1,
   "id": "tutorial-dispute",
   "metadata": {},
   "outputs": [],
   "source": [
    "import random\n",
    "from collections import defaultdict"
   ]
  },
  {
   "cell_type": "markdown",
   "id": "bronze-spelling",
   "metadata": {},
   "source": [
    "## Load and Process Corpus"
   ]
  },
  {
   "cell_type": "code",
   "execution_count": 2,
   "id": "working-consultation",
   "metadata": {},
   "outputs": [],
   "source": [
    "def load_training_file(file):\n",
    "    with open(file) as f:\n",
    "        raw_sentences = f.read()\n",
    "        return raw_sentences\n",
    "\n",
    "def prep_training(raw_sentences):\n",
    "    raw_sentences = raw_sentences.lower()\n",
    "    raw_sentences = raw_sentences.strip(\",_”“\")\n",
    "    raw_sentences = raw_sentences.replace(' \\'', \"\")    \n",
    "    raw_sentences = raw_sentences.replace('\\'' , \"\")    \n",
    "    raw_sentences = raw_sentences.replace(',', \"\")\n",
    "    raw_sentences = raw_sentences.replace('\"', \"\")\n",
    "    raw_sentences = raw_sentences.replace('_', \"\")\n",
    "    raw_sentences = raw_sentences.replace('”', \"\")\n",
    "    raw_sentences = raw_sentences.replace('“', \"\")\n",
    "    corpus = raw_sentences.replace('\\n',' ').split()\n",
    "    return corpus"
   ]
  },
  {
   "cell_type": "markdown",
   "id": "understanding-ownership",
   "metadata": {},
   "source": [
    "## Build Markov Models"
   ]
  },
  {
   "cell_type": "code",
   "execution_count": 3,
   "id": "republican-january",
   "metadata": {},
   "outputs": [],
   "source": [
    "def map_word_to_word(corpus):\n",
    "    limit = len(corpus) - 1\n",
    "    dict1_to_1 = defaultdict(list)\n",
    "    for index, word in enumerate(corpus):\n",
    "        if index < limit:\n",
    "            suffix = corpus[index + 1]\n",
    "            dict1_to_1[word].append(suffix)\n",
    "    return dict1_to_1\n",
    "\n",
    "def map_2_words_to_word(corpus):\n",
    "    limit = len(corpus) - 2\n",
    "    dict2_to_1 = defaultdict(list)\n",
    "    for index, word in enumerate(corpus):\n",
    "        if index < limit:\n",
    "            key = word + ' ' + corpus[index + 1]\n",
    "            suffix = corpus[index + 2]\n",
    "            dict2_to_1[key].append(suffix)\n",
    "    return dict2_to_1\n",
    "\n",
    "def map_3_words_to_word(corpus):\n",
    "    limit = len(corpus) - 3\n",
    "    dict3_to_1 = defaultdict(list)\n",
    "    for index, word in enumerate(corpus):\n",
    "        if index < limit:\n",
    "            key = word + ' ' + corpus[index + 1] + ' ' + corpus[index + 2]\n",
    "            suffix = corpus[index + 3]\n",
    "            dict3_to_1[key].append(suffix)\n",
    "    return dict3_to_1"
   ]
  },
  {
   "cell_type": "markdown",
   "id": "veterinary-plasma",
   "metadata": {},
   "source": [
    "## Select Random Seed"
   ]
  },
  {
   "cell_type": "code",
   "execution_count": 4,
   "id": "unknown-agency",
   "metadata": {},
   "outputs": [],
   "source": [
    "def random_word(corpus):            \n",
    "    seed = input(\"Enter a word to start a sentence: \")\n",
    "    if seed in corpus:\n",
    "        word = seed\n",
    "    else:\n",
    "        word = None\n",
    "        print(\"Try another word as a seed that exists in the corpus used.\")      \n",
    "    return word"
   ]
  },
  {
   "cell_type": "markdown",
   "id": "armed-anxiety",
   "metadata": {},
   "source": [
    "## Apply the Markov Models"
   ]
  },
  {
   "cell_type": "code",
   "execution_count": 5,
   "id": "collect-enzyme",
   "metadata": {},
   "outputs": [],
   "source": [
    "def word_after_single(prefix, suffix_map_1):\n",
    "    accepted_words = []\n",
    "    suffixes = suffix_map_1.get(prefix)\n",
    "    if suffixes != None:\n",
    "        for candidate in suffixes:\n",
    "            accepted_words.append(candidate)\n",
    "    return accepted_words\n",
    "\n",
    "def  word_after_double(prefix, suffix_map_2):\n",
    "    accepted_words = []\n",
    "    suffixes = suffix_map_2.get(prefix)\n",
    "    if suffixes != None:\n",
    "        for candidate in suffixes:\n",
    "            accepted_words.append(candidate)\n",
    "    return accepted_words\n",
    "\n",
    "def  word_after_triple(prefix, suffix_map_3):\n",
    "    accepted_words = []\n",
    "    suffixes = suffix_map_3.get(prefix)\n",
    "    if suffixes != None:\n",
    "        for candidate in suffixes:\n",
    "            accepted_words.append(candidate)\n",
    "    return accepted_words"
   ]
  },
  {
   "cell_type": "markdown",
   "id": "sustained-emphasis",
   "metadata": {},
   "source": [
    "## Build a Sentence"
   ]
  },
  {
   "cell_type": "code",
   "execution_count": 6,
   "id": "seven-brick",
   "metadata": {},
   "outputs": [],
   "source": [
    "def sentence_builder(suffix_map_1, suffix_map_2, suffix_map_3, corpus):\n",
    "    final_sentence = \"\"\n",
    "    try:\n",
    "        number_of_sentences = int(input(\"How many sentences do you want? \"))\n",
    "        number_of_markov_chains = int(input(\"Choose 1, 2, or 3 Markov chains to be applied. How many Markov chains would you want to apply? \"))\n",
    "    except:\n",
    "        print(\"You entered something other than integers. Enter only integers.\")\n",
    "        return final_sentence\n",
    "    stop_characters = [\".\",\":\",\"!\",\"?\"]\n",
    "    current_sentence = []\n",
    "    word = random_word(corpus)    \n",
    "    keep_building = True\n",
    "    if word != None:\n",
    "        current_sentence.append(word)         \n",
    "        for i in range(number_of_sentences):\n",
    "            keep_building = True      \n",
    "            while keep_building == True:\n",
    "                if number_of_markov_chains == 1:\n",
    "                    word_choices = word_after_single(word, suffix_map_1)\n",
    "                    word = random.choice(word_choices)\n",
    "                    current_sentence.append(word)\n",
    "                    if any(character in word[-1] for character in stop_characters):\n",
    "                        keep_building = False\n",
    "                        break\n",
    "                elif number_of_markov_chains == 2:\n",
    "                    word_choices = word_after_single(word, suffix_map_1)\n",
    "                    word = random.choice(word_choices)\n",
    "                    current_sentence.append(word)\n",
    "                    if any(character in word[-1] for character in stop_characters):\n",
    "                        keep_building = False\n",
    "                        break\n",
    "                    prefix = current_sentence[-2] + ' ' + current_sentence[-1]\n",
    "                    word_choices = word_after_double(prefix, suffix_map_2)\n",
    "                    word = random.choice(word_choices)\n",
    "                    current_sentence.append(word)\n",
    "                    if any(character in word[-1] for character in stop_characters):\n",
    "                        keep_building = False\n",
    "                        break\n",
    "                elif number_of_markov_chains == 3:\n",
    "                    word_choices = word_after_single(word, suffix_map_1)\n",
    "                    word = random.choice(word_choices)\n",
    "                    current_sentence.append(word)\n",
    "                    if any(character in word[-1] for character in stop_characters):\n",
    "                        keep_building = False\n",
    "                        break\n",
    "                    prefix = current_sentence[-2] + ' ' + current_sentence[-1]\n",
    "                    word_choices = word_after_double(prefix, suffix_map_2)\n",
    "                    word = random.choice(word_choices)\n",
    "                    current_sentence.append(word)\n",
    "                    if any(character in word[-1] for character in stop_characters):\n",
    "                        keep_building = False\n",
    "                        break\n",
    "                    prefix = current_sentence[-3] + ' ' + current_sentence[-2] + ' ' + current_sentence[-1]\n",
    "                    word_choices = word_after_triple(prefix, suffix_map_3)\n",
    "                    word = random.choice(word_choices)\n",
    "                    current_sentence.append(word)\n",
    "                    if any(character in word[-1] for character in stop_characters):\n",
    "                        keep_building = False\n",
    "                        break\n",
    "                else:\n",
    "                    print(\"You entered an integer of Markov chains either less than 1 or more than 3, which are not available options to choose. Please only choose 1, 2, or 3 Markov chains to be applied.\")\n",
    "    else:\n",
    "        pass\n",
    "    for i in current_sentence:\n",
    "        if final_sentence == \"\":\n",
    "            final_sentence = final_sentence + i\n",
    "        else:\n",
    "            final_sentence = final_sentence + ' ' + i\n",
    "    return final_sentence"
   ]
  },
  {
   "cell_type": "markdown",
   "id": "solved-county",
   "metadata": {},
   "source": [
    "## Code to Generate Random Sentences"
   ]
  },
  {
   "cell_type": "code",
   "execution_count": 7,
   "id": "approved-scholarship",
   "metadata": {},
   "outputs": [],
   "source": [
    "raw_sentences = load_training_file(\"Frankenstein.txt\")\n",
    "corpus = prep_training(raw_sentences)\n",
    "suffix_map_1 = map_word_to_word(corpus)\n",
    "suffix_map_2 = map_2_words_to_word(corpus)\n",
    "suffix_map_3 = map_3_words_to_word(corpus)"
   ]
  },
  {
   "cell_type": "code",
   "execution_count": 8,
   "id": "wooden-costs",
   "metadata": {},
   "outputs": [
    {
     "name": "stdout",
     "output_type": "stream",
     "text": [
      "How many sentences do you want? 30\n",
      "Choose 1, 2, or 3 Markov chains to be applied. How many Markov chains would you want to apply? 1\n",
      "Enter a word to start a sentence: the\n",
      "the weather was a vessel and i had sustained. i had yourself and an englishman and heroism that time! one of the cause of envy rose and sadness succeeded; at my chief attention and wonderful to the face and i am interrupted. what a right to be visited germany and admiration among its immediate solemnisation drew tears streamed from whom she was indeed i feel. oh! stars and affright. can persuade myself a moment without delay and hunt me seize the words at first beheld her; her sacrilege so saying this impulse i had so hideous than an expression could not shake my friend. i reflected the kitchen stove. by change of affection for a faintness seize me lower in fixing my adversary was soothed me to plunge into the murder my college. i ever since the scenery but this event caroline beaufort with the modern chemistry the aged cottager won the nightly wind; i suffered me he was abhorrent to examine the past. god of cultivation. i continued some food and many appearances of science of mourning. my secret from which she instructed safie who could with perceptions and her religion and refreshed by night advanced and returned not then close to decide. on the substance of no link to bestow the windings which will then upon you shall be transmuted and delicious viands when i seemed to which he assumed a penetration into his neck. he revolved rapidly that might not be incomplete without which restored and on which i once gave me to aid and performed nothing. from my hopes of a strong northerly blast my thoughts now only did not by her head on this wonderful discoveries having formed a loud unrestrained fell never saw any argument of the glimmer of sexes and rome! summer months perhaps never ventured abroad into my tyrant and made many admirable qualities which i abhor me; sometimes violent repugnance. my friend on hearing this was acquainted with the light of henry and that all was often referred the sorrows of an end and the promontory i sank on a world again took me to the shores of autumn; but seizing the evening was anxious suspense; yet i have been condemned them increased swiftness of an occurrence which allowed myself on them in two hours until eleven o’clock and care and i had i now excluded. i slackened my cheek which you shall be inadequate and be of sensitiveness and die and a torch into the ascent. for his most poignant grief? he became acquainted with which almost regard myself. i awoke and i so glaring a dream. there was carried by innocence which otherwise he knew that flew before understood me; and solitary chamber and departed for her guilt which he found that i grovel in the idea of national and a halo around me. morning before regarded as the great and i should express pain? i might have made me merely to aid in the men that is that crossed my disorder. he ceased and ministered to persuade my heart but being even mild and was in the city. the imagination. i have introduced which i was thrown agrippa had in my spirit to weep. i had risen; the well as if he did not think right to the lovely safie agatha spent the garden i know not let me more gloomily. the inclemency of the uses of the green hills compensated for as the greatest delight of bestowing on the joy and that it was not so; but thousands are requisite; or any exertion and i sprang from the night been restored me that he was a vessel and felix departed and my joints were the steps of mathematics and my mind as that made some great relief to any apparent in which at this dear victor i presently i cried i had ever been buried with lofty sentiments and snowy mountains of our union from the wretch whom you are more happy and i continued and fatigue to which i also felt the apparition of my approach of the sophisms of joy.\n"
     ]
    }
   ],
   "source": [
    "print(sentence_builder(suffix_map_1, suffix_map_2, suffix_map_3, corpus))"
   ]
  },
  {
   "cell_type": "code",
   "execution_count": 9,
   "id": "incident-disabled",
   "metadata": {},
   "outputs": [
    {
     "name": "stdout",
     "output_type": "stream",
     "text": [
      "How many sentences do you want? 30\n",
      "Choose 1, 2, or 3 Markov chains to be applied. How many Markov chains would you want to apply? 2\n",
      "Enter a word to start a sentence: the\n",
      "the ground sea descending low and interspersed with innumerable sounds rang on my representations and trade. in britain only could i in cold blood boils at once at most a new light vanished the cottagers. they made me a handkerchief thrown on shore of the instrument of this glorious expedition? and wherefore not? thus far from being surrounded by you that preyed on deck scarcely covered the different nations of the sky and horrible pilgrimage! as i must not execrate the beach of mathematics the wildest rage and horror not to obtain the horrid anguish was extreme delight; i how kind of property. i was desert and was restored to her every trait of sorrow and quenched her dearest ties are younger; yet could not tear ourselves fortunate whilst the young woman joined by elizabeth. my letter from my eyes. but i know that of the sights of my future misery. justine assumed a more than once commenced it was here then i awoke i had so appalling a kind of the river was too weak to such a nervous fever which confined to her who suffered from the cursory glance my father but hardly that i always presented to your person were called forth into a sense of mind i afterwards heard it the entrance of trees near the reuss. but when the heavens and gave place to me that presented themselves. the youth spent a blight had sent abroad into the first time i remained in this sacrifice. i shall watch their enemy and said in the attempt until i improved more cheerful air of delirium to a mystery; yet could i read. ‘hateful day and night as the outward substance of things indiscriminately. i confess my son of a gigantic stature gigantic. what did you confess? but do not mourn still lived in the possessions most subject to the rest or in the light to any other person of an agreeable asylum and i shall be consulted as it is your happiness of her to keep human beings besides them by heaven and earth was hard to us; and her looks and partly in a loud scream i had no community between me and faulty natures. i once my admiration by turns. the vegetables of their door were impressed upon my wretched a condition. i found in her letter and for me. another circumstance that happened and only to overwhelm me and admiration on the chair close to my history briefly but one as fixed as i was. the tranquillity was evidently saw of my own mind began his tale. beyond cologne we descended to the feelings of a harem allowed only to know his value on tried to imitate almost every side the cottagers i had been conversing with sublime and the sound of the reality of my life—the last effort of the new town where the chamois and considering yourself but get well as on man and his behaviour to carry him to be with you could precipitate me into a profound but i had no vision and joyous in languor and to cast off all that he thus began not to be made. you throw them off from my friend; and on my failing limbs failed me to pursue no inglorious career he appeared at home thought werter himself to have suffered great object which you first supposition was in no trace of pursuit and my resolution to you not to my plan of introducing myself into masquerades in peace now dear margaret do i thought that far exceeded theirs. pursuing these motives urged by this injustice with you on my mind; i was yet engaged ernest entered: he had fallen into the depths of despair. i left to us to leave my solitary cottage through the window gazing on your wedding-night. i started back unable to attend their usual quantity and spires and a mist came over the heavens than that i had already bought some furniture and took no notice poor justine to forgive me for that matter i might claim elizabeth and look forward to her manners of the ocean appeared to me as i entered. an old man decidedly refused thinking and reasoning animal might close over its recesses. their icy and glittering pinnacle the experience of his successors in each beast have formed.\n"
     ]
    }
   ],
   "source": [
    "print(sentence_builder(suffix_map_1, suffix_map_2, suffix_map_3, corpus))"
   ]
  },
  {
   "cell_type": "code",
   "execution_count": 10,
   "id": "descending-yacht",
   "metadata": {},
   "outputs": [
    {
     "name": "stdout",
     "output_type": "stream",
     "text": [
      "How many sentences do you want? 30\n",
      "Choose 1, 2, or 3 Markov chains to be applied. How many Markov chains would you want to apply? 3\n",
      "Enter a word to start a sentence: the\n",
      "the old man and he instantly changed in those savage inhabitant of some time and i was. the tranquillity which blow us speedily i hardly knew that i must i die and i hastened to higher powers of those whose dearest smiles. they were not a fellow feeling of my soul of our companionship with them. i felt as i imprinted the deadly languor and i saw the ground? i must perform this sacrifice. i shall quit for ever the fishermen called to be torn away many blooming children of a forced to lean against her which might regret our connection with visible objects that presented themselves. we visited the heavens who have sunk beneath this to my mother was dead but the sun was fixed for the middle of the sensation of helplessness so often felt those cares and with a loud voice and the never-dying worm alive to every new wonders to me. a change indeed who would credit and assistance. beaufort had taken place since i had mangled the aspirations and ambition of the inquirer seemed to limit of my ambition. i dared not have a more ruined castles and as far as he fled with greater composure; yet that city might have produced it and indeed none among the myriads of men that the principles of my friend could remove. sleep fled from thine eyes; my path. the agony of malice. the prospect did not consider that branch of natural decay and corruption of death succeed many many months in london we might proceed southwards together. this letter in ruin! he seems to recall the memory with exploded systems mingling like an eulogy on himself to obtain the neighbourhood of man who asked her generous interference and the arabian was to occupy me in favour of affection and duty as a magistrate listened to me away and indulged in the most excellent creatures in the heavens and lost. after an interval one of the usual occupations of his terrific appearance. he had carried off their store of winter food is not that night. i hired men hate the wretched; how then must commence a destructive and almost endless journey across the same dangers which i could drink in a tranquillity of her hitherto befallen us that sink deep. the disquisitions upon what had hitherto been to me go’ he cried; now i enjoy is centred in other respects this rule were always looked forward to a tale otherwise have snatched repose akin to death of her youngest darling! come victor; not to be regarded as an insuperable barrier between me the stranger addressed him was impressive but calm; i easily perceived that at that moment but followed him but as i saw the fish could be procured; and thus i feared still more the blue lake of fire. she afterwards continued he observing my first impulses which he valued. he reminds me dear lady to withhold from him back to the end of july. i packed up by the interest me but when suddenly her foot against something and large assemblages of looks; and safie was outraged by dwelling on these sounds of malice. i have declared my resolution to disturb my peace of the grave have succeeded to these studies in the open air. i felt emotions of benevolence towards her and embraced elizabeth and said he that i should not declare to you that gazes on your garden? i do not been long married her. william justine and mightier scenes of my beloved cousin said she fills them with fear not but that i was destined to endure. memory brought madness i created a confirmation or denial of this opinion. for the first have i heard the silver tones of my elizabeth’s heart-rending eloquence failed to move the south. almost spent as upon the happy when he beheld my person reflected that they had brooded for the early romans—of their manners are more much more (i did not for a short time and exchanged the gentle words of the flannel.\n"
     ]
    }
   ],
   "source": [
    "print(sentence_builder(suffix_map_1, suffix_map_2, suffix_map_3, corpus))"
   ]
  }
 ],
 "metadata": {
  "kernelspec": {
   "display_name": "Python 3",
   "language": "python",
   "name": "python3"
  },
  "language_info": {
   "codemirror_mode": {
    "name": "ipython",
    "version": 3
   },
   "file_extension": ".py",
   "mimetype": "text/x-python",
   "name": "python",
   "nbconvert_exporter": "python",
   "pygments_lexer": "ipython3",
   "version": "3.9.2"
  }
 },
 "nbformat": 4,
 "nbformat_minor": 5
}
