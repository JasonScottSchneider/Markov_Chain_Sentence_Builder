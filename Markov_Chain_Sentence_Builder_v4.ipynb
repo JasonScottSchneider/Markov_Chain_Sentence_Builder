{
 "cells": [
  {
   "cell_type": "markdown",
   "id": "civil-wilson",
   "metadata": {},
   "source": [
    "# Markov Chain Sentence Builder\n",
    "This is a program to build random sentences based on the data with sentences fed into it. This program uses a simple Markov chain that checks at every one and/or two words and/or three words in which the user can choose the number of Markov chains to be applied."
   ]
  },
  {
   "cell_type": "markdown",
   "id": "metric-pathology",
   "metadata": {},
   "source": [
    "## Import Libraries"
   ]
  },
  {
   "cell_type": "code",
   "execution_count": 1,
   "id": "tutorial-dispute",
   "metadata": {},
   "outputs": [],
   "source": [
    "import random\n",
    "from collections import defaultdict"
   ]
  },
  {
   "cell_type": "markdown",
   "id": "bronze-spelling",
   "metadata": {},
   "source": [
    "## Load and Process Corpus"
   ]
  },
  {
   "cell_type": "code",
   "execution_count": 2,
   "id": "working-consultation",
   "metadata": {},
   "outputs": [],
   "source": [
    "def load_training_file(file):\n",
    "    with open(file) as f:\n",
    "        raw_sentences = f.read()\n",
    "        return raw_sentences\n",
    "\n",
    "def prep_training(raw_sentences):\n",
    "    raw_sentences = raw_sentences.lower()\n",
    "    raw_sentences = raw_sentences.strip(\",_”“\")\n",
    "    raw_sentences = raw_sentences.replace('\"', \"\")\n",
    "    raw_sentences = raw_sentences.replace('_', \"\")\n",
    "    raw_sentences = raw_sentences.replace('”', \"\")\n",
    "    raw_sentences = raw_sentences.replace('“', \"\")\n",
    "    corpus = raw_sentences.replace('\\n',' ').split()\n",
    "    return corpus"
   ]
  },
  {
   "cell_type": "markdown",
   "id": "understanding-ownership",
   "metadata": {},
   "source": [
    "## Build Markov Models"
   ]
  },
  {
   "cell_type": "code",
   "execution_count": 3,
   "id": "republican-january",
   "metadata": {},
   "outputs": [],
   "source": [
    "def map_word_to_word(corpus):\n",
    "    limit = len(corpus) - 1\n",
    "    dict1_to_1 = defaultdict(list)\n",
    "    for index, word in enumerate(corpus):\n",
    "        if index < limit:\n",
    "            suffix = corpus[index + 1]\n",
    "            dict1_to_1[word].append(suffix)\n",
    "    return dict1_to_1\n",
    "\n",
    "def map_2_words_to_word(corpus):\n",
    "    limit = len(corpus) - 2\n",
    "    dict2_to_1 = defaultdict(list)\n",
    "    for index, word in enumerate(corpus):\n",
    "        if index < limit:\n",
    "            key = word + ' ' + corpus[index + 1]\n",
    "            suffix = corpus[index + 2]\n",
    "            dict2_to_1[key].append(suffix)\n",
    "    return dict2_to_1\n",
    "\n",
    "def map_3_words_to_word(corpus):\n",
    "    limit = len(corpus) - 3\n",
    "    dict3_to_1 = defaultdict(list)\n",
    "    for index, word in enumerate(corpus):\n",
    "        if index < limit:\n",
    "            key = word + ' ' + corpus[index + 1] + ' ' + corpus[index + 2]\n",
    "            suffix = corpus[index + 3]\n",
    "            dict3_to_1[key].append(suffix)\n",
    "    return dict3_to_1"
   ]
  },
  {
   "cell_type": "markdown",
   "id": "veterinary-plasma",
   "metadata": {},
   "source": [
    "## Select Random Seed"
   ]
  },
  {
   "cell_type": "code",
   "execution_count": 4,
   "id": "unknown-agency",
   "metadata": {},
   "outputs": [],
   "source": [
    "def random_word(corpus):            \n",
    "    seed = input(\"Enter a word to start a sentence: \")\n",
    "    if seed in corpus:\n",
    "        word = seed\n",
    "    else:\n",
    "        word = None\n",
    "        print(\"Try another word as a seed that exists in the corpus used.\")      \n",
    "    return word"
   ]
  },
  {
   "cell_type": "markdown",
   "id": "armed-anxiety",
   "metadata": {},
   "source": [
    "## Apply the Markov Models"
   ]
  },
  {
   "cell_type": "code",
   "execution_count": 5,
   "id": "collect-enzyme",
   "metadata": {},
   "outputs": [],
   "source": [
    "def word_after_single(prefix, suffix_map_1):\n",
    "    accepted_words = []\n",
    "    suffixes = suffix_map_1.get(prefix)\n",
    "    if suffixes != None:\n",
    "        for candidate in suffixes:\n",
    "            accepted_words.append(candidate)\n",
    "    return accepted_words\n",
    "\n",
    "def  word_after_double(prefix, suffix_map_2):\n",
    "    accepted_words = []\n",
    "    suffixes = suffix_map_2.get(prefix)\n",
    "    if suffixes != None:\n",
    "        for candidate in suffixes:\n",
    "            accepted_words.append(candidate)\n",
    "    return accepted_words\n",
    "\n",
    "def  word_after_triple(prefix, suffix_map_3):\n",
    "    accepted_words = []\n",
    "    suffixes = suffix_map_3.get(prefix)\n",
    "    if suffixes != None:\n",
    "        for candidate in suffixes:\n",
    "            accepted_words.append(candidate)\n",
    "    return accepted_words"
   ]
  },
  {
   "cell_type": "markdown",
   "id": "sustained-emphasis",
   "metadata": {},
   "source": [
    "## Build a Sentence"
   ]
  },
  {
   "cell_type": "code",
   "execution_count": 6,
   "id": "seven-brick",
   "metadata": {},
   "outputs": [],
   "source": [
    "def sentence_builder(suffix_map_1, suffix_map_2, suffix_map_3, corpus):\n",
    "    final_sentence = \"\"\n",
    "    try:\n",
    "        number_of_sentences = int(input(\"How many sentences do you want? \"))\n",
    "        number_of_markov_chains = int(input(\"Choose 1, 2, or 3 Markov chains to be applied. How many Markov chains would you want to apply? \"))\n",
    "    except:\n",
    "        print(\"You entered something other than integers. Enter only integers.\")\n",
    "        return final_sentence\n",
    "    stop_characters = [\".\",\":\",\"!\",\"?\"]\n",
    "    current_sentence = []\n",
    "    word = random_word(corpus)    \n",
    "    keep_building = True\n",
    "    if word != None:\n",
    "        current_sentence.append(word)         \n",
    "        for i in range(number_of_sentences):\n",
    "            keep_building = True      \n",
    "            while keep_building == True:\n",
    "                if number_of_markov_chains == 1:\n",
    "                    word_choices = word_after_single(word, suffix_map_1)\n",
    "                    word = random.choice(word_choices)\n",
    "                    current_sentence.append(word)\n",
    "                    if any(character in word[-1] for character in stop_characters):\n",
    "                        keep_building = False\n",
    "                        break\n",
    "                elif number_of_markov_chains == 2:\n",
    "                    word_choices = word_after_single(word, suffix_map_1)\n",
    "                    word = random.choice(word_choices)\n",
    "                    current_sentence.append(word)\n",
    "                    if any(character in word[-1] for character in stop_characters):\n",
    "                        keep_building = False\n",
    "                        break\n",
    "                    prefix = current_sentence[-2] + ' ' + current_sentence[-1]\n",
    "                    word_choices = word_after_double(prefix, suffix_map_2)\n",
    "                    word = random.choice(word_choices)\n",
    "                    current_sentence.append(word)\n",
    "                    if any(character in word[-1] for character in stop_characters):\n",
    "                        keep_building = False\n",
    "                        break\n",
    "                elif number_of_markov_chains == 3:\n",
    "                    word_choices = word_after_single(word, suffix_map_1)\n",
    "                    word = random.choice(word_choices)\n",
    "                    current_sentence.append(word)\n",
    "                    if any(character in word[-1] for character in stop_characters):\n",
    "                        keep_building = False\n",
    "                        break\n",
    "                    prefix = current_sentence[-2] + ' ' + current_sentence[-1]\n",
    "                    word_choices = word_after_double(prefix, suffix_map_2)\n",
    "                    word = random.choice(word_choices)\n",
    "                    current_sentence.append(word)\n",
    "                    if any(character in word[-1] for character in stop_characters):\n",
    "                        keep_building = False\n",
    "                        break\n",
    "                    prefix = current_sentence[-3] + ' ' + current_sentence[-2] + ' ' + current_sentence[-1]\n",
    "                    word_choices = word_after_triple(prefix, suffix_map_3)\n",
    "                    word = random.choice(word_choices)\n",
    "                    current_sentence.append(word)\n",
    "                    if any(character in word[-1] for character in stop_characters):\n",
    "                        keep_building = False\n",
    "                        break\n",
    "                else:\n",
    "                    print(\"You entered an integer of Markov chains either less than 1 or more than 3, which are not available options to choose. Please only choose 1, 2, or 3 Markov chains to be applied.\")\n",
    "    else:\n",
    "        pass\n",
    "    for i in current_sentence:\n",
    "        if final_sentence == \"\":\n",
    "            final_sentence = final_sentence + i\n",
    "        else:\n",
    "            final_sentence = final_sentence + ' ' + i\n",
    "    return final_sentence"
   ]
  },
  {
   "cell_type": "markdown",
   "id": "solved-county",
   "metadata": {},
   "source": [
    "## Code to Generate Random Sentences"
   ]
  },
  {
   "cell_type": "code",
   "execution_count": 7,
   "id": "approved-scholarship",
   "metadata": {},
   "outputs": [],
   "source": [
    "raw_sentences = load_training_file(\"Frankenstein.txt\")\n",
    "corpus = prep_training(raw_sentences)\n",
    "suffix_map_1 = map_word_to_word(corpus)\n",
    "suffix_map_2 = map_2_words_to_word(corpus)\n",
    "suffix_map_3 = map_3_words_to_word(corpus)"
   ]
  },
  {
   "cell_type": "code",
   "execution_count": 8,
   "id": "wooden-costs",
   "metadata": {},
   "outputs": [
    {
     "name": "stdout",
     "output_type": "stream",
     "text": [
      "How many sentences do you want? 30\n",
      "Choose 1, 2, or 3 Markov chains to be applied. How many Markov chains would you want to apply? 1\n",
      "Enter a word to start a sentence: the\n",
      "the dæmon whose eyes and proportionably large. after having traversed immense wealth rather increased in two countrymen passed rapidly in my liberty and amiable. i bounded within my dear frankenstein, who suffered through the winter, instead of health is not help owning to work to be a kind precaution necessary for i was. he aimed a conversation i must create. the rain again allowed to resign myself for several hours passed; several people of de lacey and lovely moon. a perfect forms of the windows of me from entering on one thought, one circumstance weighs against something whispers to reflect upon you were not debar him with mockery of voices are sorrowful, now know how strange thoughts were covered myself from the banks of the most hated. for nearly the birds, and departed. i do not interrupted by fury; revenge alone do you would such inquietude and i had brooded over the sole purpose of elizabeth in the morning i and ingratitude of virtue, the extremest agony. i, not desert heaths; and shelter; at length it was a solitary being, but how she and sudden and a new object which i remained during this misery. the world, yet i turned from attending upon melancholy and safie, which i could not help being and partly in your diabolical vengeance against my own house near me again i am alone welcomed me with a mixture of support. the windows of the world, and she saw the frequent relapses that the men, but by touching the several days. during which i heard my ears, proceeded to me quickly, and almost fancy myself with difficulty and i perceived and i heard the inheritance of that i am interrupted. what is rather have destroyed all smiled on her hands she works as if they had blinded me the world and down among so simple, that he might by his companions he concluded that you know that a wretch. i think of my little and afterwards found. the elixir of high in my first duties of the heroic songs of the next a wretched of conscience and mine from all the sun became fainter as a voice was still lived, but at home, thought more than a rising of her feelings, he said, with elizabeth conjectured that i cannot believe that i was soon after having formed on the verge of enjoyment in the good feeling and condition. we landed; we continued he and hated hands which was silent in my hand forcibly open, and feelings are more conveniently than daughter, whom i became assured me away from the cottage, dispelling their eldest child, who call this is he, stopping short but he was also wept bitterly deplored her soft music to us. the remembrance; but deep and with the birds; i could not mourn, dear friend, what i paused to learn from my soul which shattered the night of gigantic stature, yet i ate a grave or to descend almost felt as to fairy-land and a wild fancies which painted at first, however, lay at home, and hatred and by her knees. she perished on my dogs drawing a line of future lot it stopped at the unstained snowy ground. again quitted the city. we were left desolate. my father in my spirit of elizabeth and took my destiny was busy stage of her excellent opportunity; yet, although they are our union with innumerable chinks, i gazed on such would only recognised in english, and difficult voyage, he saw them for being obliged to soften and avoid the sun declined towards him as certainly have been imbued with difficulty and his countenance of crime. i have him more powerful appeal, but its inhabitants when she believed in his blow, when, enfranchised from the house, under the blind vacancy in prize-money, the progress of still feel? the brink of severity, and know not, of nature; and author? cursed head. have restored and luxury, but he is not entirely know the delight from his children. excellent disposition and i now know me to torment in the pain the elixir of daily lost no one in your triumph of speculation and the silent and that you have never behold this manner. her presence diffused happiness while those that night before me freed our race. i cannot lead them whose conversation of my hours with the custom of which had been chosen dwelling-places. we sat down upon this place, some of beautiful oak which i am now in a favourite companion and wonder. it was fixed on my hopes are of our strength should prove yourselves cowards.\n"
     ]
    }
   ],
   "source": [
    "print(sentence_builder(suffix_map_1, suffix_map_2, suffix_map_3, corpus))"
   ]
  },
  {
   "cell_type": "code",
   "execution_count": 9,
   "id": "incident-disabled",
   "metadata": {},
   "outputs": [
    {
     "name": "stdout",
     "output_type": "stream",
     "text": [
      "How many sentences do you want? 30\n",
      "Choose 1, 2, or 3 Markov chains to be applied. How many Markov chains would you want to apply? 2\n",
      "Enter a word to start a sentence: the\n",
      "the moon, everything was made me tremble, and my persecutor. sometimes i felt as i was; so frightful loudness from thee a flash of footsteps along the mountains, the changes of the sun became the same time, i thought of my enemy. she left to conjecture that some of the old man might be resigned, but how am sent to see you, encompassed by the soul is as his maker owe him towards whom you have already adopted, for there were women were allowed my thoughts, but i therefore, with supernatural force his abhorred myself. but, my pride and i lived; their murderer escapes; he intended to delay. for myself, and sat by his many letters; we are of a fellow professor, would lecture had removed my prejudices against modern philosophers were impressed upon the arrow which had already mounted considerably. the wind was contrary to my miserable self. besides, in my arms. farewell, walton! seek happiness of her face were hushed, and on the female form? she also became a fatal prejudice which i am yet risen; they should have been, can you wonder that such as even i was my only the apparently been strangled, for there and entered the gloomy feelings, even madness, but if not, like him, when he might have befallen me, with a sum of the heavens. the most miserable of elevating his intended services towards her until i dare not. you may have entirely anew. so saying, he stepped fearfully in: the apartment which i coveted for the escape of their sympathies—as if you were men who sickened at first i became capable of receiving. they elevated from its excess. if any severity or rather hours, when no peace. but busy, uninteresting, joyous in his tale had succeeded. but my life, as nothing, and bending my heart; i alone am guilty? i could remove. sleep fled from my imagination; but i was thus engaged, my spirits to joy at my tale. i was some justice in his state was to commence. my father in silence and was conveyed home, my mother had blessed me with more attention was fixed on one another through languor and snow, but i am entitled, therefore, i was unemployed in my ears; his lustrous eyes dwell in those of rage choked my trifling occupations within. the old man, at my unhappiness? i fear, and chiefly spent in listening to leghorn, where had they entered, and throwing myself to the most beautiful and heavenly—if i except i, the miserable details of vice must be at an affection for all that they would quit its beauty compensated him for a few stars, it was impossible: and to him. entreating him, and who would gain from frankenstein had said she, fills me with any future prospects. the first discovered that a mutilated one should not retard it a visit. his manners have created. i trembled with rage that burned with rage sparkled in the society on him feel the utmost extent of his statement, which again engages his attention, and i tenderly love me, and it is true, we saw the attainment of intense tortures of hell surrounded me to support. the magistrate was intimidated.\n"
     ]
    }
   ],
   "source": [
    "print(sentence_builder(suffix_map_1, suffix_map_2, suffix_map_3, corpus))"
   ]
  },
  {
   "cell_type": "code",
   "execution_count": 10,
   "id": "descending-yacht",
   "metadata": {},
   "outputs": [
    {
     "name": "stdout",
     "output_type": "stream",
     "text": [
      "How many sentences do you want? 30\n",
      "Choose 1, 2, or 3 Markov chains to be applied. How many Markov chains would you want to apply? 3\n",
      "Enter a word to start a sentence: the\n",
      "the time that the other sailors to be the purport of this book from which felix replied in a sensitive being and inaccessible. this part of a stranger can live in the servants, happening to enslave it. i truly thank you, my best years spent under the exhaustion, a long pause of mankind. but on you will rejoice to alter the course of lectures upon me in the moon had disappeared in the light which canopied me. morning dawned before the resolutions of mont blanc, render him happy before this change seemed ravished with delight on her dark orbs nearly covered with ice, and his companion entered the cabin where i was or fidelity in my own heart the greatest consolation that i was the fire that consumes your own heart. i saw an accumulation of anguish, combined with disdain me. with this deep of agony; let him live with feelings of unbridled joy and hilarity. you have probably never escape, but at length she was innocent. i know, i now say, thank you, my best of these i inflict pain on the morrow was one of those whom she had much the appearance was disconsolate, and the same night, to steal a calm and peaceful happiness. we passed rapidly increase. their faces expressed a desire to restore it to relieve the sufferings and sought erroneous methods to remedy the incurable ill. safie nursed her and embraced her inclinations. what a noble of human creatures, and am entitled, therefore, to judge of your countenance, for mr. kirwin alone understood with tolerable ease. it was as you cannot even to rapture. after so much more a murdered my brother also in his hellish sport have betrayed the innocent to revenge. i could with excess of sensitiveness, and my pulse beat rapidly. i was unable to solve them. one of his deliverer. the plot of their knowledge. it gives me the shifting colours of the landscape and the appearances of the sky. this is what remains of my dear margaret. heaven shower down by care and destroyed. thus are my sensations in exclamations and agony, i then was in view. about this time strangely unlike to move the passions and then cast my basket into arguments, which he was not there. we returned again, i considered whether i am ever busy, and the commission of his condemnation. felix had accidentally been present at this time a persuasion that i was occupied by the sun, and seek them in my feelings since then, but i only do not keep me.’ ‘frankenstein! you belong then close with him to remain in my soul which they supposed her health, and even understand the sounds when he read it in some tools in his gentleness and the horrible scene of geneva; the gates were open, and now, behold, with great ingenuity. we returned to finish my labours did not for ever. it was eight o’clock, and when i perceived that they would be the elizabeth whom i fondly prized before every other words without being an obstacle to contemplate the deep and everlasting regret.\n"
     ]
    }
   ],
   "source": [
    "print(sentence_builder(suffix_map_1, suffix_map_2, suffix_map_3, corpus))"
   ]
  }
 ],
 "metadata": {
  "kernelspec": {
   "display_name": "Python 3",
   "language": "python",
   "name": "python3"
  },
  "language_info": {
   "codemirror_mode": {
    "name": "ipython",
    "version": 3
   },
   "file_extension": ".py",
   "mimetype": "text/x-python",
   "name": "python",
   "nbconvert_exporter": "python",
   "pygments_lexer": "ipython3",
   "version": "3.9.2"
  }
 },
 "nbformat": 4,
 "nbformat_minor": 5
}
