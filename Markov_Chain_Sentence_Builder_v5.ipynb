{
 "cells": [
  {
   "cell_type": "markdown",
   "id": "civil-wilson",
   "metadata": {},
   "source": [
    "# Markov Chain Sentence Builder\n",
    "This is a program to build random sentences based on the data with sentences fed into it. This program uses a simple Markov chain that checks at every one and/or two words and/or three words in which the user can choose the number of Markov chains to be applied."
   ]
  },
  {
   "cell_type": "markdown",
   "id": "metric-pathology",
   "metadata": {},
   "source": [
    "## Import Libraries"
   ]
  },
  {
   "cell_type": "code",
   "execution_count": 1,
   "id": "tutorial-dispute",
   "metadata": {},
   "outputs": [],
   "source": [
    "import random\n",
    "from collections import defaultdict"
   ]
  },
  {
   "cell_type": "markdown",
   "id": "bronze-spelling",
   "metadata": {},
   "source": [
    "## Load and Process Corpus"
   ]
  },
  {
   "cell_type": "code",
   "execution_count": 2,
   "id": "working-consultation",
   "metadata": {},
   "outputs": [],
   "source": [
    "def load_training_file(file):\n",
    "    with open(file) as f:\n",
    "        raw_sentences = f.read()\n",
    "        return raw_sentences\n",
    "\n",
    "def prep_training(raw_sentences):\n",
    "    raw_sentences = raw_sentences.lower()\n",
    "    raw_sentences = raw_sentences.strip(\",_”“\")\n",
    "    raw_sentences = raw_sentences.replace(' \\'', \"\")    \n",
    "    raw_sentences = raw_sentences.replace('\\'' , \"\")    \n",
    "    raw_sentences = raw_sentences.replace(',', \"\")\n",
    "    raw_sentences = raw_sentences.replace('\"', \"\")\n",
    "    raw_sentences = raw_sentences.replace('_', \"\")\n",
    "    raw_sentences = raw_sentences.replace('”', \"\")\n",
    "    raw_sentences = raw_sentences.replace('“', \"\")\n",
    "    corpus = raw_sentences.replace('\\n',' ').split()\n",
    "    return corpus"
   ]
  },
  {
   "cell_type": "markdown",
   "id": "understanding-ownership",
   "metadata": {},
   "source": [
    "## Build Markov Models"
   ]
  },
  {
   "cell_type": "code",
   "execution_count": 3,
   "id": "republican-january",
   "metadata": {},
   "outputs": [],
   "source": [
    "def map_word_to_word(corpus):\n",
    "    limit = len(corpus) - 1\n",
    "    dict1_to_1 = defaultdict(list)\n",
    "    for index, word in enumerate(corpus):\n",
    "        if index < limit:\n",
    "            suffix = corpus[index + 1]\n",
    "            dict1_to_1[word].append(suffix)\n",
    "    return dict1_to_1\n",
    "\n",
    "def map_2_words_to_word(corpus):\n",
    "    limit = len(corpus) - 2\n",
    "    dict2_to_1 = defaultdict(list)\n",
    "    for index, word in enumerate(corpus):\n",
    "        if index < limit:\n",
    "            key = word + ' ' + corpus[index + 1]\n",
    "            suffix = corpus[index + 2]\n",
    "            dict2_to_1[key].append(suffix)\n",
    "    return dict2_to_1\n",
    "\n",
    "def map_3_words_to_word(corpus):\n",
    "    limit = len(corpus) - 3\n",
    "    dict3_to_1 = defaultdict(list)\n",
    "    for index, word in enumerate(corpus):\n",
    "        if index < limit:\n",
    "            key = word + ' ' + corpus[index + 1] + ' ' + corpus[index + 2]\n",
    "            suffix = corpus[index + 3]\n",
    "            dict3_to_1[key].append(suffix)\n",
    "    return dict3_to_1"
   ]
  },
  {
   "cell_type": "markdown",
   "id": "veterinary-plasma",
   "metadata": {},
   "source": [
    "## Select Random Seed"
   ]
  },
  {
   "cell_type": "code",
   "execution_count": 4,
   "id": "unknown-agency",
   "metadata": {},
   "outputs": [],
   "source": [
    "def random_word(corpus):            \n",
    "    seed = input(\"Enter a word to start a sentence: \")\n",
    "    if seed in corpus:\n",
    "        word = seed\n",
    "    else:\n",
    "        word = None\n",
    "        print(\"Try another word as a seed that exists in the corpus used.\")      \n",
    "    return word"
   ]
  },
  {
   "cell_type": "markdown",
   "id": "armed-anxiety",
   "metadata": {},
   "source": [
    "## Apply the Markov Models"
   ]
  },
  {
   "cell_type": "code",
   "execution_count": 5,
   "id": "collect-enzyme",
   "metadata": {},
   "outputs": [],
   "source": [
    "def word_after_single(prefix, suffix_map_1):\n",
    "    accepted_words = []\n",
    "    suffixes = suffix_map_1.get(prefix)\n",
    "    if suffixes != None:\n",
    "        for candidate in suffixes:\n",
    "            accepted_words.append(candidate)\n",
    "    return accepted_words\n",
    "\n",
    "def  word_after_double(prefix, suffix_map_2):\n",
    "    accepted_words = []\n",
    "    suffixes = suffix_map_2.get(prefix)\n",
    "    if suffixes != None:\n",
    "        for candidate in suffixes:\n",
    "            accepted_words.append(candidate)\n",
    "    return accepted_words\n",
    "\n",
    "def  word_after_triple(prefix, suffix_map_3):\n",
    "    accepted_words = []\n",
    "    suffixes = suffix_map_3.get(prefix)\n",
    "    if suffixes != None:\n",
    "        for candidate in suffixes:\n",
    "            accepted_words.append(candidate)\n",
    "    return accepted_words"
   ]
  },
  {
   "cell_type": "markdown",
   "id": "sustained-emphasis",
   "metadata": {},
   "source": [
    "## Build a Sentence"
   ]
  },
  {
   "cell_type": "code",
   "execution_count": 6,
   "id": "seven-brick",
   "metadata": {},
   "outputs": [],
   "source": [
    "def sentence_builder(suffix_map_1, suffix_map_2, suffix_map_3, corpus):\n",
    "    final_sentence = \"\"\n",
    "    try:\n",
    "        number_of_sentences = int(input(\"How many sentences do you want? \"))\n",
    "        number_of_markov_chains = int(input(\"Choose 1, 2, or 3 Markov chains to be applied. How many Markov chains would you want to apply? \"))\n",
    "    except:\n",
    "        print(\"You entered something other than integers. Enter only integers.\")\n",
    "        return final_sentence\n",
    "    stop_characters = [\".\",\":\",\"!\",\"?\"]\n",
    "    current_sentence = []\n",
    "    word = random_word(corpus)    \n",
    "    keep_building = True\n",
    "    if word != None:\n",
    "        current_sentence.append(word)         \n",
    "        for i in range(number_of_sentences):\n",
    "            keep_building = True      \n",
    "            while keep_building == True:\n",
    "                if number_of_markov_chains == 1:\n",
    "                    word_choices = word_after_single(word, suffix_map_1)\n",
    "                    word = random.choice(word_choices)\n",
    "                    current_sentence.append(word)\n",
    "                    if any(character in word[-1] for character in stop_characters):\n",
    "                        keep_building = False\n",
    "                        break\n",
    "                elif number_of_markov_chains == 2:\n",
    "                    try:\n",
    "                        if len(current_sentence) >= 2:\n",
    "                            prefix = current_sentence[-2] + ' ' + current_sentence[-1]\n",
    "                            word_choices = word_after_double(prefix, suffix_map_2)\n",
    "                            word = random.choice(word_choices)\n",
    "                            current_sentence.append(word)\n",
    "                            if any(character in word[-1] for character in stop_characters):\n",
    "                                keep_building = False\n",
    "                                break\n",
    "                        elif len(current_sentence) <= 1:\n",
    "                            word_choices = word_after_single(word, suffix_map_1)\n",
    "                            word = random.choice(word_choices)\n",
    "                            current_sentence.append(word)\n",
    "                            if any(character in word[-1] for character in stop_characters):\n",
    "                                keep_building = False\n",
    "                                break\n",
    "                    except:\n",
    "                        word_choices = word_after_single(word, suffix_map_1)\n",
    "                        word = random.choice(word_choices)\n",
    "                        current_sentence.append(word)\n",
    "                        if any(character in word[-1] for character in stop_characters):\n",
    "                            keep_building = False\n",
    "                            break\n",
    "                        prefix = current_sentence[-2] + ' ' + current_sentence[-1]\n",
    "                        word_choices = word_after_double(prefix, suffix_map_2)\n",
    "                        word = random.choice(word_choices)\n",
    "                        current_sentence.append(word)\n",
    "                        if any(character in word[-1] for character in stop_characters):\n",
    "                            keep_building = False\n",
    "                            break\n",
    "                elif number_of_markov_chains == 3:\n",
    "                    try:\n",
    "                        if len(current_sentence) >= 3:\n",
    "                            prefix = current_sentence[-2] + ' ' + current_sentence[-1]\n",
    "                            word_choices = word_after_double(prefix, suffix_map_2)\n",
    "                            word = random.choice(word_choices)\n",
    "                            current_sentence.append(word)\n",
    "                            if any(character in word[-1] for character in stop_characters):\n",
    "                                keep_building = False\n",
    "                                break\n",
    "                            prefix = current_sentence[-3] + ' ' + current_sentence[-2] + ' ' + current_sentence[-1]\n",
    "                            word_choices = word_after_triple(prefix, suffix_map_3)\n",
    "                            word = random.choice(word_choices)\n",
    "                            current_sentence.append(word)\n",
    "                            if any(character in word[-1] for character in stop_characters):\n",
    "                                keep_building = False\n",
    "                                break\n",
    "                        elif len(current_sentence) == 2:\n",
    "                            prefix = current_sentence[-2] + ' ' + current_sentence[-1]\n",
    "                            word_choices = word_after_double(prefix, suffix_map_2)\n",
    "                            word = random.choice(word_choices)\n",
    "                            current_sentence.append(word)\n",
    "                            if any(character in word[-1] for character in stop_characters):\n",
    "                                keep_building = False\n",
    "                                break\n",
    "                        elif len(current_sentence) <= 1:\n",
    "                            word_choices = word_after_single(word, suffix_map_1)\n",
    "                            word = random.choice(word_choices)\n",
    "                            current_sentence.append(word)\n",
    "                            if any(character in word[-1] for character in stop_characters):\n",
    "                                keep_building = False\n",
    "                                break\n",
    "                    except:\n",
    "                        word_choices = word_after_single(word, suffix_map_1)\n",
    "                        word = random.choice(word_choices)\n",
    "                        current_sentence.append(word)\n",
    "                        if any(character in word[-1] for character in stop_characters):\n",
    "                            keep_building = False\n",
    "                            break\n",
    "                        prefix = current_sentence[-2] + ' ' + current_sentence[-1]\n",
    "                        word_choices = word_after_double(prefix, suffix_map_2)\n",
    "                        word = random.choice(word_choices)\n",
    "                        current_sentence.append(word)\n",
    "                        if any(character in word[-1] for character in stop_characters):\n",
    "                            keep_building = False\n",
    "                            break\n",
    "                        prefix = current_sentence[-3] + ' ' + current_sentence[-2] + ' ' + current_sentence[-1]\n",
    "                        word_choices = word_after_triple(prefix, suffix_map_3)\n",
    "                        word = random.choice(word_choices)\n",
    "                        current_sentence.append(word)\n",
    "                        if any(character in word[-1] for character in stop_characters):\n",
    "                            keep_building = False\n",
    "                            break\n",
    "                else:\n",
    "                    print(\"You entered an integer of Markov chains either less than 1 or more than 3, which are not available options to choose. Please only choose 1, 2, or 3 Markov chains to be applied.\")\n",
    "    else:\n",
    "        pass\n",
    "    for i in current_sentence:\n",
    "        if final_sentence == \"\":\n",
    "            final_sentence = final_sentence + i\n",
    "        else:\n",
    "            final_sentence = final_sentence + ' ' + i\n",
    "    return final_sentence"
   ]
  },
  {
   "cell_type": "markdown",
   "id": "solved-county",
   "metadata": {},
   "source": [
    "## Code to Generate Random Sentences"
   ]
  },
  {
   "cell_type": "code",
   "execution_count": 7,
   "id": "approved-scholarship",
   "metadata": {},
   "outputs": [],
   "source": [
    "raw_sentences = load_training_file(\"Frankenstein.txt\")\n",
    "corpus = prep_training(raw_sentences)\n",
    "suffix_map_1 = map_word_to_word(corpus)\n",
    "suffix_map_2 = map_2_words_to_word(corpus)\n",
    "suffix_map_3 = map_3_words_to_word(corpus)"
   ]
  },
  {
   "cell_type": "code",
   "execution_count": 8,
   "id": "wooden-costs",
   "metadata": {},
   "outputs": [
    {
     "name": "stdout",
     "output_type": "stream",
     "text": [
      "How many sentences do you want? 30\n",
      "Choose 1, 2, or 3 Markov chains to be applied. How many Markov chains would you want to apply? 1\n",
      "Enter a word to start a sentence: the\n",
      "the tree shattered spirit had been made a pearly whiteness; but a sensitive and three weeks; and my promise with the others he endeavours to his prize-money the agony of agitation; then assuredly take a glorious for me from the duty towards him to fly from the blood boils at my first made for the spoiler has ever been drowned and more obvious laws of the poor medium for another means of the house at secheron a burning hatred and explained to me make us that moment i sought my hand feebly and examine. good will be perfect forms of it moved by and then i alighted and godlike in their conversation. i have feared that we resided principally in the projects but unlike his soul. my bosom. i uncovered it for all my prejudices unsoftened by a deep wood on one feeling of certain dignity in a feeble voice became more terrible reveries. several days. during her soft air of insurrection and i knew that report of the antique glory and our swiss home and coldness of the wars and my own. do these means of the assemblage of success. nor the force enough replied by the fresh water when the northern extremity frankenstein who aspired to aspire to his request. turning of persuading to identify every one among them a free from his behaviour has frequently took refuge in the last night! i found his countenance but the same nature and the orb was the hope that i return? ah dear sights were clouded but she slept or the arbiters of skill or how altered to good and had presented elizabeth my unfinished work near me to me. night to arrive a plank to die; now superfluous. if their causes. the whale-fishers on all hope can describe to the earth that he will pass her with loveliness of my accustomed during this element which i cannot overcome by a portrait of hell surrounded by concealing the wickedness of a creature and concealed my business; i do the vessel in which one of vengeance on that felix came to me a thousand nameless evils that half kind and i now excellent disposition often sat up his face so roughly? i raved incessantly baffled and all his gentle manners which you smile how ill you the extremest agitation. during which produced against the bed and represented caroline beaufort had deposited the memory and almost supernatural force enough that series of the frightful that our strength is a great and admiration he must repose akin to have happened that what a conversation i expressed these moments i sought his words yet why does a young man who was uniform. during the morning; the produce it. this last moments i cannot know. sometimes i continued talking to behold only exist you on although good god forbid that now as a love while my friend that he was heavy misfortunes weigh upon the others. he swore positively that i endured and encouraged the guardian angel mother! who are profound sleep; but have ten months have been discovered that his enjoyments was one instant i was an early in accents whilst the contrast between me to live embers when i imagined the ensuing days i should be saved but then putting my application and i enquired more astonishing to a gentle manners in width but with his threats. i had retired. as an unguarded part of winter spring advanced rapidly; the môle a seafaring life. whence did not be transmuted and bade farewell frankenstein! if the remembrancers. for interment that while i wait for me. the use of the female without either in his spirit had hardly know not be done more than the trial was going forward and admiration he is set i now with a farm with greater conviction that i bounded over me with an idea which i live and i found that i could send to revel in attending upon me the dungeon of clerval? yet i live under the wondrous strain of these are not expect you. you will be slow fever night was ten o’clock when the dreams of penury in which he had been sorrowful affection that air climbing the whirlwinds of speculation and if thou wouldst not known.\n"
     ]
    }
   ],
   "source": [
    "print(sentence_builder(suffix_map_1, suffix_map_2, suffix_map_3, corpus))"
   ]
  },
  {
   "cell_type": "code",
   "execution_count": 9,
   "id": "incident-disabled",
   "metadata": {},
   "outputs": [
    {
     "name": "stdout",
     "output_type": "stream",
     "text": [
      "How many sentences do you want? 30\n",
      "Choose 1, 2, or 3 Markov chains to be applied. How many Markov chains would you want to apply? 2\n",
      "Enter a word to start a sentence: the\n",
      "the trees formed a scene terrifically desolate. in a few jewels to have feared the effects of the room which had that night at evian and continuing our voyage on the foe. he spoke i drew near a close and in the gloom and misery were strongly expressed. sometimes she struggled with her foster parents and bloomed in their most terrific guise. still as i spoke of penury in its series internal evidence of facts a weight of anguish that was spoken. while i watched the tempest so beautiful yet terrific i wandered towards these mountains i felt as if to seek amusement in society. i abhorred the face of the country town where the corpse lay and was overcome by gloom and he hoped that with which i have already reached a very confused knowledge of which haunted me. i continued to utter exclamations of grief commences. yet from whom she had suffered from the west and on you and have destroyed the cottage that morning and i shall no longer restrained by the fatal effects of this miserable marriage. but as hideous as that of either journeying to england therefore i was partly urged by this time i considered satan as the minuteness of the most learned philosopher knew little more. he had leisure for these and many hours and felt the cheering warmth of summer were already in bud. i was on the habitable globe. its productions and features may be but it was your journal of the shepherd’s breakfast which consisted of bread cheese milk and wine; the latter name made me feel gratitude towards you and me; we are enemies. begone or let us only cling closer to what remains and transfer our love for the night she replied that i possessed no money no friends no kind of belief that is worthy of the moon arose and shone full upon his ghastly and distorted shape as he spoke and at other times he repeated my favourite authors the fulfilment of my laboratory. as i plunged yet deeper in the forest. my sensations on beholding it? i feel myself justified in conceiving that i might proclaim myself a madman but not on that with pleasure. several changes of day will be with you on your wedding-night. i started up and down the room as if i continued to search for him and afterwards attended her own mind that justine moritz who was entering on life and spirit to peace and happiness. my promise for some time incapable of any other time might have him within my grasp to wreak a great quantity of stones and many pistols putting to flight the inhabitants of a cypress. i was for ever on the precipices of piny mountains of ice are mole-hills which will demand all my dear frankenstein exclaimed he how glad i am at length i gathered resolution to you my dear cousin said she the accused? but it was kept perfectly dry and by the memory of the windows of the parts formed a scene has just taken place! i am blind i am thy creature who in all the tortures of hell after their sufferings in the interchange of those terms relative as they slept and grasped to death and wretchedness? begone! i do not poison the luxury there is no peace. the agonies that i had rather that ten innocent should suffer than that which preceded it. the young man met her whose portrait i held but of this but yesterday an idea seized me and i may trample you to undertake a voyage of discovery up his guitar and the despair that their little fund was rapidly decreasing and that consoles me going as i could the courses of the street would present to my improvements i thought of obtaining the desired intelligence was dilatory and unsatisfactory; besides i had hitherto attended the schools of geneva i was oppressed by fatigue i lay at my misery you will rejoice to hear the promised narrative partly from curiosity and delight. as i said in some degree beneficial; but a fatality seems to me i should have advanced far enough in the midst of poverty and while i still dread for my task or to bend before any being felt emotions of benevolence and love; the younger cottagers for several days. during this voyage to render their seeming eccentricities consistent for ever. a sod covers his gentle sister lay in a solitude can persuade itself that she had no right to share a misery which you first entering on a tour through that land of peace and precipitate him into the sea which threatened my destruction.\n"
     ]
    }
   ],
   "source": [
    "print(sentence_builder(suffix_map_1, suffix_map_2, suffix_map_3, corpus))"
   ]
  },
  {
   "cell_type": "code",
   "execution_count": 10,
   "id": "descending-yacht",
   "metadata": {},
   "outputs": [
    {
     "name": "stdout",
     "output_type": "stream",
     "text": [
      "How many sentences do you want? 30\n",
      "Choose 1, 2, or 3 Markov chains to be applied. How many Markov chains would you want to apply? 3\n",
      "Enter a word to start a sentence: the\n",
      "the cause of all this? do not destroy the saviour of his child? nay these are virtuous and immaculate beings! i the creator who would believe me to life. soon after this he inquired if i thought of my aunt; grief had given me life? among the earliest sensations i can make you so wretched a condition. we attempted to carry him into the ocean. i walked i sought for the latter town in a fit. poor clerval! what must have been and are certainly possessed of dauntless courage. but i fear from what you have yourself described to be his properties that this will prove impracticable; and thus i was a mere skeleton and fever night and day preyed upon my wasted frame. still as i urged our leaving ireland with such inquietude and impatience my father discovered his abode. overjoyed at this discovery he hastened to paris and delivered himself up to the ground. no distinct ideas occupied my mind; perhaps if my first recollections. i was also disconcerted on perceiving me the greatest pleasure to receive a letter to fix the date of my friend could in no mood to laugh and talk with strangers or enter into foreign service but we cannot part with him when he observed me with a hasty step. this noble war in the sky and lake are blue and placid. is this gentle and extremely pretty; as i heard it continually spoken of as an occurrence which no accident could possibly prevent. elizabeth seemed happy; my tranquil demeanour contributed greatly to calm ernest; i enquired more minutely concerning my father was to convey me away they were all black and justine was called home by her hair. everywhere i turn i see the same figure—her bloodless arms and relaxed form flung by the most alarming symptoms and the looks of her medical attendants prognosticated the worst event. on her neck and bowing me to the ground. again i found with pleasure that the fire that consumes your own temper. henry wished to dissuade me but i will revenge my injuries; if i cannot guess how many days have passed since i awoke into life. my attention from the doting fondness of age prevailed on her mother to allow me to the ground some entirely destroyed others bent leaning upon the mountain. the sun is for ever visible its broad disk just skirting the horizon and diffusing a perpetual splendour. there—for with your leave my sister perish on the open air climbing the hills of asia and hailed with rapture the boundary of their victim and spared no pains to detect and punish his deliverer. the plot of felix was warmed by several accidents winter and snow arrived the roads were deemed impassable and my nocturnal rambles were an extreme pleasure to me yet i seek not a fellow mind than after the enunciation of his threats. i resolved to dedicate myself to enter my laboratory for several days and at other times he worked in the marvellous intertwined in all my projects which hurries me out into arguments which he should be enabled to assist their labours. i found i proceeded i weighed the various diligences and carriages usually stopped. here i thought is one of us. you purpose to kill me.\n"
     ]
    }
   ],
   "source": [
    "print(sentence_builder(suffix_map_1, suffix_map_2, suffix_map_3, corpus))"
   ]
  }
 ],
 "metadata": {
  "kernelspec": {
   "display_name": "Python 3",
   "language": "python",
   "name": "python3"
  },
  "language_info": {
   "codemirror_mode": {
    "name": "ipython",
    "version": 3
   },
   "file_extension": ".py",
   "mimetype": "text/x-python",
   "name": "python",
   "nbconvert_exporter": "python",
   "pygments_lexer": "ipython3",
   "version": "3.9.2"
  }
 },
 "nbformat": 4,
 "nbformat_minor": 5
}
