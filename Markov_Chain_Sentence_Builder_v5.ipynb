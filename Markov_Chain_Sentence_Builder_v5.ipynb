{
 "cells": [
  {
   "cell_type": "markdown",
   "id": "civil-wilson",
   "metadata": {},
   "source": [
    "# Markov Chain Sentence Builder\n",
    "This is a program to build random sentences based on the data with sentences fed into it. This program uses a simple Markov chain that checks at every one and/or two words and/or three words in which the user can choose the number of Markov chains to be applied."
   ]
  },
  {
   "cell_type": "markdown",
   "id": "metric-pathology",
   "metadata": {},
   "source": [
    "## Import Libraries"
   ]
  },
  {
   "cell_type": "code",
   "execution_count": 1,
   "id": "tutorial-dispute",
   "metadata": {},
   "outputs": [],
   "source": [
    "import random\n",
    "from collections import defaultdict"
   ]
  },
  {
   "cell_type": "markdown",
   "id": "bronze-spelling",
   "metadata": {},
   "source": [
    "## Load and Process Corpus"
   ]
  },
  {
   "cell_type": "code",
   "execution_count": 2,
   "id": "working-consultation",
   "metadata": {},
   "outputs": [],
   "source": [
    "def load_training_file(file):\n",
    "    with open(file) as f:\n",
    "        raw_sentences = f.read()\n",
    "        return raw_sentences\n",
    "\n",
    "def prep_training(raw_sentences):\n",
    "    raw_sentences = raw_sentences.lower()\n",
    "    raw_sentences = raw_sentences.strip(\",_”“\")\n",
    "    raw_sentences = raw_sentences.replace('\"', \"\")\n",
    "    raw_sentences = raw_sentences.replace('_', \"\")\n",
    "    raw_sentences = raw_sentences.replace('”', \"\")\n",
    "    raw_sentences = raw_sentences.replace('“', \"\")\n",
    "    corpus = raw_sentences.replace('\\n',' ').split()\n",
    "    return corpus"
   ]
  },
  {
   "cell_type": "markdown",
   "id": "understanding-ownership",
   "metadata": {},
   "source": [
    "## Build Markov Models"
   ]
  },
  {
   "cell_type": "code",
   "execution_count": 3,
   "id": "republican-january",
   "metadata": {},
   "outputs": [],
   "source": [
    "def map_word_to_word(corpus):\n",
    "    limit = len(corpus) - 1\n",
    "    dict1_to_1 = defaultdict(list)\n",
    "    for index, word in enumerate(corpus):\n",
    "        if index < limit:\n",
    "            suffix = corpus[index + 1]\n",
    "            dict1_to_1[word].append(suffix)\n",
    "    return dict1_to_1\n",
    "\n",
    "def map_2_words_to_word(corpus):\n",
    "    limit = len(corpus) - 2\n",
    "    dict2_to_1 = defaultdict(list)\n",
    "    for index, word in enumerate(corpus):\n",
    "        if index < limit:\n",
    "            key = word + ' ' + corpus[index + 1]\n",
    "            suffix = corpus[index + 2]\n",
    "            dict2_to_1[key].append(suffix)\n",
    "    return dict2_to_1\n",
    "\n",
    "def map_3_words_to_word(corpus):\n",
    "    limit = len(corpus) - 3\n",
    "    dict3_to_1 = defaultdict(list)\n",
    "    for index, word in enumerate(corpus):\n",
    "        if index < limit:\n",
    "            key = word + ' ' + corpus[index + 1] + ' ' + corpus[index + 2]\n",
    "            suffix = corpus[index + 3]\n",
    "            dict3_to_1[key].append(suffix)\n",
    "    return dict3_to_1"
   ]
  },
  {
   "cell_type": "markdown",
   "id": "veterinary-plasma",
   "metadata": {},
   "source": [
    "## Select Random Seed"
   ]
  },
  {
   "cell_type": "code",
   "execution_count": 4,
   "id": "unknown-agency",
   "metadata": {},
   "outputs": [],
   "source": [
    "def random_word(corpus):            \n",
    "    seed = input(\"Enter a word to start a sentence: \")\n",
    "    if seed in corpus:\n",
    "        word = seed\n",
    "    else:\n",
    "        word = None\n",
    "        print(\"Try another word as a seed that exists in the corpus used.\")      \n",
    "    return word"
   ]
  },
  {
   "cell_type": "markdown",
   "id": "armed-anxiety",
   "metadata": {},
   "source": [
    "## Apply the Markov Models"
   ]
  },
  {
   "cell_type": "code",
   "execution_count": 5,
   "id": "collect-enzyme",
   "metadata": {},
   "outputs": [],
   "source": [
    "def word_after_single(prefix, suffix_map_1):\n",
    "    accepted_words = []\n",
    "    suffixes = suffix_map_1.get(prefix)\n",
    "    if suffixes != None:\n",
    "        for candidate in suffixes:\n",
    "            accepted_words.append(candidate)\n",
    "    return accepted_words\n",
    "\n",
    "def  word_after_double(prefix, suffix_map_2):\n",
    "    accepted_words = []\n",
    "    suffixes = suffix_map_2.get(prefix)\n",
    "    if suffixes != None:\n",
    "        for candidate in suffixes:\n",
    "            accepted_words.append(candidate)\n",
    "    return accepted_words\n",
    "\n",
    "def  word_after_triple(prefix, suffix_map_3):\n",
    "    accepted_words = []\n",
    "    suffixes = suffix_map_3.get(prefix)\n",
    "    if suffixes != None:\n",
    "        for candidate in suffixes:\n",
    "            accepted_words.append(candidate)\n",
    "    return accepted_words"
   ]
  },
  {
   "cell_type": "markdown",
   "id": "sustained-emphasis",
   "metadata": {},
   "source": [
    "## Build a Sentence"
   ]
  },
  {
   "cell_type": "code",
   "execution_count": 6,
   "id": "seven-brick",
   "metadata": {},
   "outputs": [],
   "source": [
    "def sentence_builder(suffix_map_1, suffix_map_2, suffix_map_3, corpus):\n",
    "    final_sentence = \"\"\n",
    "    try:\n",
    "        number_of_sentences = int(input(\"How many sentences do you want? \"))\n",
    "        number_of_markov_chains = int(input(\"Choose 1, 2, or 3 Markov chains to be applied. How many Markov chains would you want to apply? \"))\n",
    "    except:\n",
    "        print(\"You entered something other than integers. Enter only integers.\")\n",
    "        return final_sentence\n",
    "    stop_characters = [\".\",\":\",\"!\",\"?\"]\n",
    "    current_sentence = []\n",
    "    word = random_word(corpus)    \n",
    "    keep_building = True\n",
    "    if word != None:\n",
    "        current_sentence.append(word)         \n",
    "        for i in range(number_of_sentences):\n",
    "            keep_building = True      \n",
    "            while keep_building == True:\n",
    "                if number_of_markov_chains == 1:\n",
    "                    word_choices = word_after_single(word, suffix_map_1)\n",
    "                    word = random.choice(word_choices)\n",
    "                    current_sentence.append(word)\n",
    "                    if any(character in word[-1] for character in stop_characters):\n",
    "                        keep_building = False\n",
    "                        break\n",
    "                elif number_of_markov_chains == 2:\n",
    "                    try:\n",
    "                        if len(current_sentence) >= 2:\n",
    "                            prefix = current_sentence[-2] + ' ' + current_sentence[-1]\n",
    "                            word_choices = word_after_double(prefix, suffix_map_2)\n",
    "                            word = random.choice(word_choices)\n",
    "                            current_sentence.append(word)\n",
    "                            if any(character in word[-1] for character in stop_characters):\n",
    "                                keep_building = False\n",
    "                                break\n",
    "                        elif len(current_sentence) <= 1:\n",
    "                            word_choices = word_after_single(word, suffix_map_1)\n",
    "                            word = random.choice(word_choices)\n",
    "                            current_sentence.append(word)\n",
    "                            if any(character in word[-1] for character in stop_characters):\n",
    "                                keep_building = False\n",
    "                                break\n",
    "                    except:\n",
    "                        word_choices = word_after_single(word, suffix_map_1)\n",
    "                        word = random.choice(word_choices)\n",
    "                        current_sentence.append(word)\n",
    "                        if any(character in word[-1] for character in stop_characters):\n",
    "                            keep_building = False\n",
    "                            break\n",
    "                        prefix = current_sentence[-2] + ' ' + current_sentence[-1]\n",
    "                        word_choices = word_after_double(prefix, suffix_map_2)\n",
    "                        word = random.choice(word_choices)\n",
    "                        current_sentence.append(word)\n",
    "                        if any(character in word[-1] for character in stop_characters):\n",
    "                            keep_building = False\n",
    "                            break\n",
    "                elif number_of_markov_chains == 3:\n",
    "                    try:\n",
    "                        if len(current_sentence) >= 3:\n",
    "                            prefix = current_sentence[-2] + ' ' + current_sentence[-1]\n",
    "                            word_choices = word_after_double(prefix, suffix_map_2)\n",
    "                            word = random.choice(word_choices)\n",
    "                            current_sentence.append(word)\n",
    "                            if any(character in word[-1] for character in stop_characters):\n",
    "                                keep_building = False\n",
    "                                break\n",
    "                            prefix = current_sentence[-3] + ' ' + current_sentence[-2] + ' ' + current_sentence[-1]\n",
    "                            word_choices = word_after_triple(prefix, suffix_map_3)\n",
    "                            word = random.choice(word_choices)\n",
    "                            current_sentence.append(word)\n",
    "                            if any(character in word[-1] for character in stop_characters):\n",
    "                                keep_building = False\n",
    "                                break\n",
    "                        elif len(current_sentence) == 2:\n",
    "                            prefix = current_sentence[-2] + ' ' + current_sentence[-1]\n",
    "                            word_choices = word_after_double(prefix, suffix_map_2)\n",
    "                            word = random.choice(word_choices)\n",
    "                            current_sentence.append(word)\n",
    "                            if any(character in word[-1] for character in stop_characters):\n",
    "                                keep_building = False\n",
    "                                break\n",
    "                        elif len(current_sentence) <= 1:\n",
    "                            word_choices = word_after_single(word, suffix_map_1)\n",
    "                            word = random.choice(word_choices)\n",
    "                            current_sentence.append(word)\n",
    "                            if any(character in word[-1] for character in stop_characters):\n",
    "                                keep_building = False\n",
    "                                break\n",
    "                    except:\n",
    "                        word_choices = word_after_single(word, suffix_map_1)\n",
    "                        word = random.choice(word_choices)\n",
    "                        current_sentence.append(word)\n",
    "                        if any(character in word[-1] for character in stop_characters):\n",
    "                            keep_building = False\n",
    "                            break\n",
    "                        prefix = current_sentence[-2] + ' ' + current_sentence[-1]\n",
    "                        word_choices = word_after_double(prefix, suffix_map_2)\n",
    "                        word = random.choice(word_choices)\n",
    "                        current_sentence.append(word)\n",
    "                        if any(character in word[-1] for character in stop_characters):\n",
    "                            keep_building = False\n",
    "                            break\n",
    "                        prefix = current_sentence[-3] + ' ' + current_sentence[-2] + ' ' + current_sentence[-1]\n",
    "                        word_choices = word_after_triple(prefix, suffix_map_3)\n",
    "                        word = random.choice(word_choices)\n",
    "                        current_sentence.append(word)\n",
    "                        if any(character in word[-1] for character in stop_characters):\n",
    "                            keep_building = False\n",
    "                            break\n",
    "                else:\n",
    "                    print(\"You entered an integer of Markov chains either less than 1 or more than 3, which are not available options to choose. Please only choose 1, 2, or 3 Markov chains to be applied.\")\n",
    "    else:\n",
    "        pass\n",
    "    for i in current_sentence:\n",
    "        if final_sentence == \"\":\n",
    "            final_sentence = final_sentence + i\n",
    "        else:\n",
    "            final_sentence = final_sentence + ' ' + i\n",
    "    return final_sentence"
   ]
  },
  {
   "cell_type": "markdown",
   "id": "solved-county",
   "metadata": {},
   "source": [
    "## Code to Generate Random Sentences"
   ]
  },
  {
   "cell_type": "code",
   "execution_count": 7,
   "id": "approved-scholarship",
   "metadata": {},
   "outputs": [],
   "source": [
    "raw_sentences = load_training_file(\"Frankenstein.txt\")\n",
    "corpus = prep_training(raw_sentences)\n",
    "suffix_map_1 = map_word_to_word(corpus)\n",
    "suffix_map_2 = map_2_words_to_word(corpus)\n",
    "suffix_map_3 = map_3_words_to_word(corpus)"
   ]
  },
  {
   "cell_type": "code",
   "execution_count": 8,
   "id": "wooden-costs",
   "metadata": {},
   "outputs": [
    {
     "name": "stdout",
     "output_type": "stream",
     "text": [
      "How many sentences do you want? 30\n",
      "Choose 1, 2, or 3 Markov chains to be applied. How many Markov chains would you want to apply? 2\n",
      "Enter a word to start a sentence: the\n",
      "the company of strangers. such were the sight of her, and she quitted our house; and so was disposed to set a greater appearance of courage. when she again lived in daily fear lest my fire should be united to his work, and after an interval reconciled me to record your words which agatha endeavoured to change my course southwards. this speech convinced my father that my disorder indeed owed its origin to some degree consoled. she indeed gained the friendship of the weather; my imagination as the lion rends the antelope. but my heart yearned to be a creature capable of observing outward objects with any kind of conversation, although i could not refuse. we were affectionate playfellows during childhood, and, i believe, suffered the same spot from which a naval adventurer might derive the greatest attention to it. as i afterwards learned that, knowing my father’s consent to your taste, but you will have fled, for i have never had your powers of eloquence and persuasion, and when we were sheltered from its rays by a mixture of pain and anguish, i quitted geneva my first resolution was to become the prey, of your courage, you shrink away and are uneasy at your long silence. is that prejudice which i had before experienced sensations of men. but she was innocent. i know, i feel so many admirable qualities were called forth the kind of panic on seeing me, instantly sprung out. my dear sister; and while this distress had been taken ill, all the papers that were beginning to descend; the clouds swept across it swifter than the benevolent approbation of m. moritz, treated her very ill. my aunt observed this, and had broken the only object that i excite the horror of that serenity of conscience and heeded the stings of remorse and guilt which would pursue me until death. sweet and mournful than i became convinced of your union. this expectation will now be the murderer on its being proved that it was agreed that elizabeth could tear herself away. i asked, it is terrible to me a boat with which that patriot fell. for a dream, and i beheld my emaciated frame and render man invulnerable to any other living thing. i have been my favourite authors, the fulfilment of which you are wrapped in furs—a dress which i am the cause of his property, which had perhaps never entirely recovered from his attacks, exasperated as he said that these were men to row and took possession, an incident happened that protracted my stay. one of his destruction was mine, but i now ask thee to pardon me? i, who continually sought the attainment of one of those caprices of the new world, yet one of the cemetery where william, elizabeth, and my mind that to create another like the arabian now infused new life into an airy dream and leave no trace of him at perth, that we were seated. a tear seemed to her sacrilege toward the dead; eternal woe and tears she then related that, by your eagerness and the lively conversation of the turk and the sun was of little avail. my revenge is of no escape and threaten every moment more ominous and terrific. i pressed on, and in about a league from the trees. i tried, therefore, to leave my labour for the sorrows of werter. i learned the science and mechanics, i was engaged in any shape. m. krempe had given me greater pleasure than the ancient, because the way to fit myself for an interview with them which would fully reward his toil and horrible as his shadow, to protect him from his dream of pleasure. i started up and resolved will of man? my swelling heart involuntarily pours itself out thus.\n"
     ]
    }
   ],
   "source": [
    "print(sentence_builder(suffix_map_1, suffix_map_2, suffix_map_3, corpus))"
   ]
  },
  {
   "cell_type": "code",
   "execution_count": 9,
   "id": "incident-disabled",
   "metadata": {},
   "outputs": [
    {
     "name": "stdout",
     "output_type": "stream",
     "text": [
      "How many sentences do you want? 30\n",
      "Choose 1, 2, or 3 Markov chains to be applied. How many Markov chains would you want to apply? 3\n",
      "Enter a word to start a sentence: the\n",
      "the scenes of home so dear to me, now, in my feelings: he exerted himself to have possessed while he associated with the lighthearted gaiety of boyhood. the very remembrance of us both will speedily vanish. i shall quit your vessel on its course and wrecked it—thus! i am inexorable. it is impossible to return to your families with the greatest avidity. when i was about five in the morning to labour; but in giving an account of the conclusions i had desired it with an air of divine benignity to one so utterly occupied by far other ideas than those of summer were already in bud. i was impatient to arrive at once at the summit of the kitchen stove. by slow degrees he recovered and ate a little soup, which restored him wonderfully. two days passed in the same reason that ariosto gives concerning the probabilities by which it illustrated, i was surprised that among so many shocks, which, like the archangel who aspired to omnipotence, i am chained in an audible whisper, i am your master; obey! the hour of your malignity is withdrawn from your power. oh, it is not invulnerable; this death will carry despair to him, therefore, i was bound, and it presented to your eyes express, my friend, that i love you very tenderly. remember me with affection, should you never hear from me the warmest thanks. i have already destroyed; other victims await their destiny; but you, clerval, my friend, if you were going southwards, still to trust myself in the bonds of the ice. this appearance excited our unqualified wonder. we were, as we were compassed round by a very high latitude; but it would be children, and a race of devils would be a cruel kindness, and instead of doing harm, he performed the kindest action that he could not sum up the curtain of the bed; and his constant and deep grief fills me with cheerful auguries. even the coarsest sensations of men. the cottage was quickly told, but it awakened various trains of reflection. i spoke of my youth, but i awoke into life. my attention was fixed for the sake of the information i had retrod the steps of knowledge along the paths of the river, when suddenly her foot slipped, and she sat down beside the old man, i cried, how ignorant art thou in thy pride of wisdom! cease; you know not whether the result of which deprived them of their fortune and condemned to death. i became capable of exciting. i often heard the thunder of the falling avalanche and marked the smoke of its passage. mont blanc, in awful majesty. i remained some minutes with my fellow creatures. when i was thirteen years of age, prevailed on her as of a distinct species, a being heaven-sent, and bearing a celestial stamp in all her features. the peasant woman, perceiving that my progress was rapid. my ardour was indeed but a slight tribute to the whale-fishing. i do not pretend to enter into foreign service, but we cannot part with him, at least until his elder brother returns to us. it was a necessity, a passion—remembering what she had gone on before, were not sufficient to support life.\n"
     ]
    }
   ],
   "source": [
    "print(sentence_builder(suffix_map_1, suffix_map_2, suffix_map_3, corpus))"
   ]
  },
  {
   "cell_type": "code",
   "execution_count": 10,
   "id": "descending-yacht",
   "metadata": {},
   "outputs": [
    {
     "name": "stdout",
     "output_type": "stream",
     "text": [
      "How many sentences do you want? 30\n",
      "Choose 1, 2, or 3 Markov chains to be applied. How many Markov chains would you want to apply? 1\n",
      "Enter a word to start a sentence: the\n",
      "the lessons of combustibles around me the ancient mariner. you smile at other familiarly by a cabriolet, and expressed all a never-ending source in the death of the inmate of scene of money, on their idol, and by the fare was, all that night on his own situation. the standard of her tears, but very poignantly, especially as omnipotence—and i knew that while we shall quit the traces of the tale and the hope which i saw a word from the prospect of deformity. as i will you and a stranger. he could i dare not to a small possession of elizabeth i felt a student’s thirst for some mode unknown powers, and sometimes he did my ashes this night of happiness that of agrippa and i respect and the structure with groans. how happy and i should load my dear elizabeth! i discovered on the sun, which she looked upon it. by stones continually sought a filthy dæmon, allow you think right, for the only as i was sufficient courage and if nothing can disturb you; and many hours must feel that elizabeth also a neighbouring farmer, because human, i wish to speak, but if he should leave me from their seeming earnestness into a husband and wonderful man. these men are condemned. i was obliged to commence a churchyard was rekindled within the world and my only to the father would put them off, with fresh ardour to forget the name of my best of its native land, perhaps, for ever, i declared your frame and heard that, with a blue sky, i might give up my spirits were sufficient allurements to reflect; i evidently saw, felt, heard, were impressed with tolerable ease. it was driven me from others were overwhelmed by the river drance and acquire knowledge of the assassin of those who would alone compensate for your account. i remember that followed him to condemn me from various means of, and irregular steps, not to commence our love strongly. perhaps also wept also. she so much as the projects of my enemy among the wide ocean, nor known to understanding; i had been the tortures of countenance.—ay, ay, sir, you in stature, that had been a slight sensation of the lion rends the tower famed in having landed, and elizabeth was rapidly in a plentiful stock of no longer necessary, and abhorrence for this manner rendered me with confidence in the fitter emblem of beauty of the fears revive which was forced impatience until they haunted by slow degrees, i wrote to protect him near to effect that at the day when for so immeasurably above it may be delivered without this lake and although the acquisition of solemnising my dreams of our laws, and is murdered! i should leave a second step is otherwise should have no avail when you to which can console elizabeth. very vacillating in my sentiments. i entreated me with the sleep alone with contumely? why do not to riot in my occupation. the natural to geneva: come to cast off all my sorrowful affection and have been passed the wind arose the picture of conduct me to aid him, when they hardly placed with a miserable dæmon whom i feel. blasted in a miserable huts, and i will quit him, impelled to rest of the evening with the north as a monster would not fear overcame me; now you will you may trample you dare not made by the squalidness of the sunlight over our lot was, i resolved not disobey. yet he looked on your aid, i shall all my heart was that these words of the story and destroy him and sometimes i do not have lived unknown to the arrival of that? the idea of my heart, often made you all? but now, no pain. he had with the science as the strange system of heart i cannot bear to complete master the breeze dissipated the following day. accordingly put them farther end; her mother fixed on me which she said, the presence on it at the intercourse with kindness. he appeared at the spot where his heart and persecutor, may die, she quitted italy they found myself as the warbling of cold answers and bitter circumstances came and if to be a low hill, that i coveted for my unfinished work, being whom i seemed to discover himself in vain. after which nothing more cheerful auguries. even i, a fatality the creation of cumberland and never escape, but i was the post-road between me from the ensuing hours round the towns that you kneel, if i was chastened by my papa.’ ‘boy, you do not suppose, possessed by these conjectures to bestow every conversation took it; it is generally melancholy that matter, i might remain silent. it became noon, and reasoning of my unwearied entreaties that falsehood lies between us.\n"
     ]
    }
   ],
   "source": [
    "print(sentence_builder(suffix_map_1, suffix_map_2, suffix_map_3, corpus))"
   ]
  }
 ],
 "metadata": {
  "kernelspec": {
   "display_name": "Python 3",
   "language": "python",
   "name": "python3"
  },
  "language_info": {
   "codemirror_mode": {
    "name": "ipython",
    "version": 3
   },
   "file_extension": ".py",
   "mimetype": "text/x-python",
   "name": "python",
   "nbconvert_exporter": "python",
   "pygments_lexer": "ipython3",
   "version": "3.9.2"
  }
 },
 "nbformat": 4,
 "nbformat_minor": 5
}
