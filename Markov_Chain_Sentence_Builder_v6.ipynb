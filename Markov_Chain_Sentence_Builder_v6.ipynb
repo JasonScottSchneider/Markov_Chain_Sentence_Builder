{
 "cells": [
  {
   "cell_type": "markdown",
   "id": "civil-wilson",
   "metadata": {},
   "source": [
    "# Markov Chain Sentence Builder\n",
    "This is a program to build random sentences based on the data with sentences fed into it. This program uses a simple Markov chain that checks at every one and/or two words and/or three words in which the user can choose the number of Markov chains to be applied."
   ]
  },
  {
   "cell_type": "markdown",
   "id": "metric-pathology",
   "metadata": {},
   "source": [
    "## Import Libraries"
   ]
  },
  {
   "cell_type": "code",
   "execution_count": 1,
   "id": "tutorial-dispute",
   "metadata": {},
   "outputs": [],
   "source": [
    "import random\n",
    "from collections import defaultdict"
   ]
  },
  {
   "cell_type": "markdown",
   "id": "bronze-spelling",
   "metadata": {},
   "source": [
    "## Load and Process Corpus"
   ]
  },
  {
   "cell_type": "code",
   "execution_count": 2,
   "id": "working-consultation",
   "metadata": {},
   "outputs": [],
   "source": [
    "def load_training_file(file):\n",
    "    with open(file) as f:\n",
    "        raw_sentences = f.read()\n",
    "        return raw_sentences\n",
    "\n",
    "def prep_training(raw_sentences):\n",
    "    raw_sentences = raw_sentences.lower()\n",
    "    raw_sentences = raw_sentences.strip(\",_”“:;\")\n",
    "    raw_sentences = raw_sentences.replace(' \\'', \"\")    \n",
    "    raw_sentences = raw_sentences.replace('\\' ' , \"\")    \n",
    "    raw_sentences = raw_sentences.replace(',', \"\")\n",
    "    raw_sentences = raw_sentences.replace('\"', \"\")\n",
    "    raw_sentences = raw_sentences.replace('_', \"\")\n",
    "    raw_sentences = raw_sentences.replace('”', \"\")\n",
    "    raw_sentences = raw_sentences.replace('“', \"\")\n",
    "    raw_sentences = raw_sentences.replace(':', \" :\")\n",
    "    raw_sentences = raw_sentences.replace(';', \" ;\")\n",
    "    raw_sentences = raw_sentences.replace('.', \" .\")\n",
    "    raw_sentences = raw_sentences.replace('!', \" !\")\n",
    "    raw_sentences = raw_sentences.replace('?', \" ?\")\n",
    "    corpus = raw_sentences.replace('\\n',' ').split()\n",
    "    return corpus"
   ]
  },
  {
   "cell_type": "markdown",
   "id": "understanding-ownership",
   "metadata": {},
   "source": [
    "## Build Markov Models"
   ]
  },
  {
   "cell_type": "code",
   "execution_count": 3,
   "id": "republican-january",
   "metadata": {},
   "outputs": [],
   "source": [
    "def map_word_to_word(corpus):\n",
    "    limit = len(corpus) - 1\n",
    "    dict1_to_1 = defaultdict(list)\n",
    "    for index, word in enumerate(corpus):\n",
    "        if index < limit:\n",
    "            suffix = corpus[index + 1]\n",
    "            dict1_to_1[word].append(suffix)\n",
    "    return dict1_to_1\n",
    "\n",
    "def map_2_words_to_word(corpus):\n",
    "    limit = len(corpus) - 2\n",
    "    dict2_to_1 = defaultdict(list)\n",
    "    for index, word in enumerate(corpus):\n",
    "        if index < limit:\n",
    "            key = word + ' ' + corpus[index + 1]\n",
    "            suffix = corpus[index + 2]\n",
    "            dict2_to_1[key].append(suffix)\n",
    "    return dict2_to_1\n",
    "\n",
    "def map_3_words_to_word(corpus):\n",
    "    limit = len(corpus) - 3\n",
    "    dict3_to_1 = defaultdict(list)\n",
    "    for index, word in enumerate(corpus):\n",
    "        if index < limit:\n",
    "            key = word + ' ' + corpus[index + 1] + ' ' + corpus[index + 2]\n",
    "            suffix = corpus[index + 3]\n",
    "            dict3_to_1[key].append(suffix)\n",
    "    return dict3_to_1\n",
    "\n",
    "def map_4_words_to_word(corpus):\n",
    "    limit = len(corpus) - 4\n",
    "    dict4_to_1 = defaultdict(list)\n",
    "    for index, word in enumerate(corpus):\n",
    "        if index < limit:\n",
    "            key = word + ' ' + corpus[index + 1] + ' ' + corpus[index + 2] + ' ' + corpus[index + 3]\n",
    "            suffix = corpus[index + 4]\n",
    "            dict4_to_1[key].append(suffix)\n",
    "    return dict4_to_1"
   ]
  },
  {
   "cell_type": "markdown",
   "id": "veterinary-plasma",
   "metadata": {},
   "source": [
    "## Select Random Seed"
   ]
  },
  {
   "cell_type": "code",
   "execution_count": 4,
   "id": "unknown-agency",
   "metadata": {},
   "outputs": [],
   "source": [
    "def random_word(corpus):            \n",
    "    seed = input(\"Enter a word to start a sentence: \")\n",
    "    if seed in corpus:\n",
    "        word = seed\n",
    "    else:\n",
    "        word = None\n",
    "        print(\"Try another word as a seed that exists in the corpus used.\")      \n",
    "    return word"
   ]
  },
  {
   "cell_type": "markdown",
   "id": "armed-anxiety",
   "metadata": {},
   "source": [
    "## Apply the Markov Models"
   ]
  },
  {
   "cell_type": "code",
   "execution_count": 5,
   "id": "collect-enzyme",
   "metadata": {},
   "outputs": [],
   "source": [
    "def word_after_single(prefix, suffix_map_1):\n",
    "    accepted_words = []\n",
    "    suffixes = suffix_map_1.get(prefix)\n",
    "    if suffixes != None:\n",
    "        for candidate in suffixes:\n",
    "            accepted_words.append(candidate)\n",
    "    return accepted_words\n",
    "\n",
    "def  word_after_double(prefix, suffix_map_2):\n",
    "    accepted_words = []\n",
    "    suffixes = suffix_map_2.get(prefix)\n",
    "    if suffixes != None:\n",
    "        for candidate in suffixes:\n",
    "            accepted_words.append(candidate)\n",
    "    return accepted_words\n",
    "\n",
    "def  word_after_triple(prefix, suffix_map_3):\n",
    "    accepted_words = []\n",
    "    suffixes = suffix_map_3.get(prefix)\n",
    "    if suffixes != None:\n",
    "        for candidate in suffixes:\n",
    "            accepted_words.append(candidate)\n",
    "    return accepted_words\n",
    "\n",
    "def  word_after_quadruple(prefix, suffix_map_4):\n",
    "    accepted_words = []\n",
    "    suffixes = suffix_map_4.get(prefix)\n",
    "    if suffixes != None:\n",
    "        for candidate in suffixes:\n",
    "            accepted_words.append(candidate)\n",
    "    return accepted_words"
   ]
  },
  {
   "cell_type": "markdown",
   "id": "sustained-emphasis",
   "metadata": {},
   "source": [
    "## Build a Sentence"
   ]
  },
  {
   "cell_type": "code",
   "execution_count": 6,
   "id": "seven-brick",
   "metadata": {},
   "outputs": [],
   "source": [
    "def sentence_builder(suffix_map_1, suffix_map_2, suffix_map_3, suffix_map_4, corpus):\n",
    "    final_sentence = \"\"\n",
    "    try:\n",
    "        number_of_sentences = int(input(\"How many sentences do you want? \"))\n",
    "        number_of_markov_chains = int(input(\"Choose 1, 2, or 3 Markov chains to be applied. How many Markov chains would you want to apply? \"))\n",
    "    except:\n",
    "        print(\"You entered something other than integers. Enter only integers.\")\n",
    "        return final_sentence\n",
    "    stop_characters = [\".\",\"!\",\"?\"]\n",
    "    current_sentence = []\n",
    "    word = random_word(corpus)    \n",
    "    keep_building = True\n",
    "    if word != None:\n",
    "        current_sentence.append(word)         \n",
    "        for i in range(number_of_sentences):\n",
    "            keep_building = True      \n",
    "            while keep_building == True:\n",
    "                if number_of_markov_chains == 1:                    \n",
    "                    if current_sentence[-1] == \":\" and len(current_sentence) > 1 or current_sentence[-1] == \";\" and len(current_sentence) > 1:\n",
    "                        prefix = current_sentence[-2] + ' ' + current_sentence[-1]\n",
    "                        word_choices = word_after_double(prefix, suffix_map_2)                        \n",
    "                    else:                                           \n",
    "                        word_choices = word_after_single(word, suffix_map_1)\n",
    "                    word = random.choice(word_choices)\n",
    "                    current_sentence.append(word)\n",
    "                    if any(character in word[-1] for character in stop_characters):\n",
    "                        keep_building = False\n",
    "                        break\n",
    "                elif number_of_markov_chains == 2:\n",
    "                    if len(current_sentence) >= 2:\n",
    "                        if current_sentence[-2] == \":\" and len(current_sentence) > 2 or current_sentence[-2] == \";\" and len(current_sentence) > 2:\n",
    "                            prefix = current_sentence[-3] + ' ' + current_sentence[-2] + ' ' + current_sentence[-1]\n",
    "                            word_choices = word_after_triple(prefix, suffix_map_3)                        \n",
    "                        else:   \n",
    "                            prefix = current_sentence[-2] + ' ' + current_sentence[-1]\n",
    "                            word_choices = word_after_double(prefix, suffix_map_2)\n",
    "                        word = random.choice(word_choices)\n",
    "                        current_sentence.append(word)\n",
    "                        if any(character in word[-1] for character in stop_characters):\n",
    "                            keep_building = False\n",
    "                            break\n",
    "                    elif len(current_sentence) <= 1:\n",
    "                        word_choices = word_after_single(word, suffix_map_1)\n",
    "                        word = random.choice(word_choices)\n",
    "                        current_sentence.append(word)\n",
    "                        if any(character in word[-1] for character in stop_characters):\n",
    "                            keep_building = False\n",
    "                            break\n",
    "                elif number_of_markov_chains == 3:\n",
    "                    if len(current_sentence) >= 3:\n",
    "                        if current_sentence[-3] == \":\" and len(current_sentence) > 3  or current_sentence[-3] == \";\" and len(current_sentence) > 3:\n",
    "                            prefix = current_sentence[-4] + ' ' + current_sentence[-3] + ' ' + current_sentence[-2] + ' ' + current_sentence[-1]\n",
    "                            word_choices = word_after_quadruple(prefix, suffix_map_4)                        \n",
    "                        else:   \n",
    "                            prefix = current_sentence[-3] + ' ' + current_sentence[-2] + ' ' + current_sentence[-1]\n",
    "                            word_choices = word_after_triple(prefix, suffix_map_3)\n",
    "                        word = random.choice(word_choices)\n",
    "                        current_sentence.append(word)\n",
    "                        if any(character in word[-1] for character in stop_characters):\n",
    "                            keep_building = False\n",
    "                            break\n",
    "                    elif len(current_sentence) == 2:   \n",
    "                        prefix = current_sentence[-2] + ' ' + current_sentence[-1]\n",
    "                        word_choices = word_after_double(prefix, suffix_map_2)\n",
    "                        word = random.choice(word_choices)\n",
    "                        current_sentence.append(word)\n",
    "                        if any(character in word[-1] for character in stop_characters):\n",
    "                            keep_building = False\n",
    "                            break\n",
    "                    elif len(current_sentence) <= 1:\n",
    "                        if current_sentence[-1] == \":\" and len(current_sentence) > 1 or current_sentence[-1] == \";\" and len(current_sentence) > 1:\n",
    "                            prefix = current_sentence[-2] + ' ' + current_sentence[-1]\n",
    "                            word_choices = word_after_double(prefix, suffix_map_2)                        \n",
    "                        else:                                           \n",
    "                            word_choices = word_after_single(word, suffix_map_1)\n",
    "                        word = random.choice(word_choices)\n",
    "                        current_sentence.append(word)\n",
    "                        if any(character in word[-1] for character in stop_characters):\n",
    "                            keep_building = False\n",
    "                            break\n",
    "                else:\n",
    "                    print(\"You entered an integer of Markov chains either less than 1 or more than 3, which are not available options to choose. Please only choose 1, 2, or 3 Markov chains to be applied.\")\n",
    "    else:\n",
    "        pass\n",
    "    for i in current_sentence:\n",
    "        if final_sentence == \"\":\n",
    "            final_sentence = final_sentence + i\n",
    "        else:\n",
    "            final_sentence = final_sentence + ' ' + i\n",
    "    final_sentence = final_sentence.replace(' :', \":\")\n",
    "    final_sentence = final_sentence.replace(' ;', \";\")\n",
    "    final_sentence = final_sentence.replace(' .', \".\")\n",
    "    final_sentence = final_sentence.replace(' ?', \"?\")\n",
    "    final_sentence = final_sentence.replace(' !', \"!\")\n",
    "    return final_sentence"
   ]
  },
  {
   "cell_type": "markdown",
   "id": "solved-county",
   "metadata": {},
   "source": [
    "## Code to Generate Random Sentences"
   ]
  },
  {
   "cell_type": "code",
   "execution_count": 7,
   "id": "approved-scholarship",
   "metadata": {},
   "outputs": [],
   "source": [
    "raw_sentences = load_training_file(\"Frankenstein.txt\")\n",
    "corpus = prep_training(raw_sentences)\n",
    "suffix_map_1 = map_word_to_word(corpus)\n",
    "suffix_map_2 = map_2_words_to_word(corpus)\n",
    "suffix_map_3 = map_3_words_to_word(corpus)\n",
    "suffix_map_4 = map_4_words_to_word(corpus)"
   ]
  },
  {
   "cell_type": "code",
   "execution_count": 8,
   "id": "wooden-costs",
   "metadata": {},
   "outputs": [
    {
     "name": "stdout",
     "output_type": "stream",
     "text": [
      "How many sentences do you want? 30\n",
      "Choose 1, 2, or 3 Markov chains to be applied. How many Markov chains would you want to apply? 1\n",
      "Enter a word to start a sentence: the\n",
      "the fair the tenets of a slight ligaments are disposed to the destruction and sympathise with new hopes yet which you will do not change of meeting with the pursuit of death of britain. he further the fire; then the hundredth part with its creator; he turned adrift homeless penniless and went out fishing tackle and how shall see you mad i escaped to me to seize the heart. it was sunk me to the light vanished when the summits are among the aged trees that he has happened to be the first deprived of science and his prize-money to me with pleasure or if there or friend that the fire. now we ought to waste and caused these good followed and causing me i found a little household. i left in justice i not sufficiently to the forest. thus far north if you follow me at length i drew near a concussion of being. i have not merely remarked that remained silent lake at first have exchanged the same thing that vessels alone and we were manacled and never willingly continue to our lives of his properties that i dare say this time i remember when i passed thus reduced to her entreaties that were indelibly impressed me that touched which had great ingenuity. you and that i received a worse; her veil and these books of the point on the lifeless form my feelings that i was an historical subject my memory of frankenstein your work being! save me of our own peace. we met her and enjoyed one morning had quitted me tremble although drenched by every feature and professional prejudices against something in desiring a handkerchief thrown on your family in one pursuit of youth departed there is decided whether from the latter end to his mistress once of grand shapes of cold and miserable wretch as in the annihilation. ‘by your hopes; and discovered them. great object which take place before i saw the opposite effects of my enticements and misery made by these wonderful facts a tearful silent in the words which i should have passed several public functions; and deep and rational animal might more i heard of geneva. one dog remained at the most poignant grief had often reflected on board when i was our situation and blooming cheek of winter in your accursed origin of poor justine that cannot see you with simple that night obscured the last beheld stretched my guest increases every other of my home and recalled me dear to descend the recent inquirers for ever visible its commencement to leave them. how happy said of not to creatures were continually engaged in your destruction pause of the midst of himself. you shall be happy earth. no word from his companions came through which would soothe me a most miserably alone in broken accents of the seashore. since the first success and value on earth and ever-moving glacier or consolation; she assuredly be very ill very dark crimes; sufficient to remain a stream. miserable cows and ascended the environs and talked in the sea of it is pursued my thoughts were told him feel this and infirmities. if he should be no compass with my father made for his lecture upon crime which the memory what chain of mortals. i most precious charge that study and you the stranger’s attention from the impression i was to these friends. what for hope. but he he gloried in a blind and carriages usually deemed impassable and miserable head. it was concealed himself; and i generally avoided these means to whine over me; i have endured toil in dreams he bestowed? i experienced relief to someone in which i beheld in safety of our motives which hurries me with excess of clerval—all left by my mother could have occasioned some sound proceeded her lover instantly resumed your curiosity and be base? from which he opened and taunt me and suffering away and rely on all nature to bear to the torture and although animated him any animal to myself in this opinion far north sea; i must i saw the minds which hurried away in this thought (foolish wretch whom i felt as we should become distinct and walking the young man had penetrated by a kind of william the woman if i will leave to quit the productions and directed his deliverer by my most lovely lake and residence at the fiend enter the favourite with the scent and ate but of the same time awakened to my power is you to the deck and the stupendous scene where can easily perceived that i was married her fever. sometimes on the success inspired me extreme labour and dear to pursue that i feel all that moment to torment and intellect and the rhine among the diffidence of your own to these lovely scene of severity or that although innocent? let me. i will be happy. adieu my hands that it but i knew of those instruments of our friend he addressed to drink more employed her hiding-places. i might only as in the pang is a new and she often sickened at length of his face was seated.\n"
     ]
    }
   ],
   "source": [
    "print(sentence_builder(suffix_map_1, suffix_map_2, suffix_map_3, suffix_map_4, corpus))"
   ]
  },
  {
   "cell_type": "code",
   "execution_count": 9,
   "id": "incident-disabled",
   "metadata": {},
   "outputs": [
    {
     "name": "stdout",
     "output_type": "stream",
     "text": [
      "How many sentences do you want? 30\n",
      "Choose 1, 2, or 3 Markov chains to be applied. How many Markov chains would you want to apply? 2\n",
      "Enter a word to start a sentence: the\n",
      "the bottom of the room had before charmed me; but her gentleness and pleasure that the presence of another month. in the noble art of language. my letter and i may trample you to perish on the habitable globe. its hills are covered with a pail on her deathbed the fortitude and awaken in me the remembrance of the uneasiness of this imprudence were fatal to her. the turk was fixed upon every object the most poignant grief? he meant to please and he my enemy with the friends he had directed their inquiries towards the beings concerning whom i accuse and for whose seizure and punishment i call on you only could he further the execution of his existence and events from which i had first become master of the different branches of physical science from which i have written myself into a cabriolet and bade me be at peace around me and now that i spoke my native town. the horrible scene of the girl was occupied in arranging the sails several people crowded towards the spot. the next a prey for worms and the lovely arabian he hastened to my mind. i pressed on my present sensations strongly intimated that the justice of our childhood always possess a certain power over our minds. enter the cottage and he tormented me at every moment from which it illustrated i was innocent; judge therefore if i could receive shade. this book had a far different from this desolate and appalling landscape. in that hour passed the sun sank lower in the imagination of danger or if i regard any interruption in your eyes; a sense of security a feeling and although i abhorred society wished to express to you my dear father reassure yourself. i generally found that a modern system of science had been so deeply engaged in the wrong replied the stranger; we are still surrounded by friends and his voice was suffocated with sobs. rise my poor william had teased her to dismount and dismissing her guide conducted her into the search of berries. i remembered the effect of these days when my cottagers periodically rested from labour—the old man was de lacey when her attendant fell dangerously ill. he was conveyed home and commence your labours; i shall be spared to discover what quality it is a love for those who yet live? why in that instant the cottage in which i shall quit your vessel said he will not be happy my dear frankenstein exclaimed henry when he relates soon changed this feeling? this breeze which has ever been considered as a restorative for her. my own cabin and attended on him an inexhaustible source of instruction and amusement. he wished me to enjoy. be happy. my temper to avoid the wretch whom i gave him pretty nearly the same defects. this winter has been my task is already far declined i shall need no other happiness. this letter disturb you; listen to such a monster a blot a blind vacancy in which she endeavoured to recollect what were my reflections. i had acquired a dislike for the apprehension of the merchant had decided to wait his approach and then with what a strange sight suddenly attracted our attention and kindness. how pleased you would have sense enough not to reason with you on your miserable existence but that i might dry it and i possessed contained the histories of the living animal to animate the lifeless thing that with pleasure that he became obnoxious to the whole nation had forsaken his cause to the mercy of the dignity of a friend the most favourable period for travelling in russia. they ascend into the depths of despair. my attention was occupied by his menaces when suddenly her foot slipped and she was innocent; you are still said to have discovered myself to this a facility of expression and a fortnight in these unfortunate circumstances. he tried to dispel them but now i could mention innumerable instances which although they were nearly frozen and his mistress were overwhelmed by disappointments yet when i called on for her weakened frame. in britain only could i in justice i shall quit your vessel said he.\n"
     ]
    }
   ],
   "source": [
    "print(sentence_builder(suffix_map_1, suffix_map_2, suffix_map_3, suffix_map_4, corpus))"
   ]
  },
  {
   "cell_type": "code",
   "execution_count": 10,
   "id": "descending-yacht",
   "metadata": {},
   "outputs": [
    {
     "name": "stdout",
     "output_type": "stream",
     "text": [
      "How many sentences do you want? 30\n",
      "Choose 1, 2, or 3 Markov chains to be applied. How many Markov chains would you want to apply? 3\n",
      "Enter a word to start a sentence: the\n",
      "the tortures of the accused did not equal mine; she was sustained by innocence but the fangs of remorse tore my bosom and i did right in refusing to create a companion for the first creature. he showed unparalleled malignity and selfishness in evil; he destroyed my friends; he devoted to destruction beings who possessed exquisite sensations happiness and wisdom; nor do i find it blamable. in a thousand ways he smoothed for me the path of knowledge and made the paths of the mountain where the priest and his mistress were overwhelmed by an avalanche and where their dying voices are still said to be harmless; but have you not already shown a degree of renovating warmth which i had endured. after some weeks my wound healed and i continued my route. the sledge was still visible nor did i again lose sight of it would produce upon me. this whole winter instead of being spent in study as you promised yourself has been consumed in my sick room. how shall i ever repay you? i feel the sincerest gratitude towards those who think of me as of one unjustly condemned i am resigned to the fate awaiting me. learn from me dear lady to submit in patience to the will of heaven! during this conversation i had retired to a hiding-place among the fields that surround it to meditate in what manner i should apply to you. safie related that her mother was a christian arab seized and made a slave by the turks; recommended by her beauty she had won the heart of the father of safie had been the cause of my being; all the events of which it is composed. you may remember that a history of all the voyages made for purposes of discovery composed the whole of the preceding night. i walked about the isle like a restless spectre separated from all it loved and miserable in the separation. when it became noon and the sun became warmer the nights clear and balmy; and my nocturnal rambles were an extreme pleasure to me although they were considerably shortened by the late setting and early rising of the sun setting behind the stupendous mountains of jura. at this time when she recalled the sunshine of her smiles and spent them upon us. she forgot even her own regret in her endeavours to make us act plays and to enter into masquerades in which the imagination of it was conceived and long for the moment when these hands will meet my eyes when that imagination will haunt my thoughts no more. fear not that i shall be with you on your wedding-night i should regard the threatened fate as unavoidable. but death was no evil to me that i may sting with its venom. man you shall repent of the injuries you inflict. devil cease; and do not you fear the fierce vengeance of my arm wreaked on your miserable head? begone vile insect! or rather stay that i may say what i know of no opportunity afforded him for so doing; or if i did what manifold miseries might not impend over me and troubled me but hardly had i felt this delay very bitterly; for i longed to console and sympathise with my loved and sorrowing friends; but when i see a fellow creature about to perish through the cowardice of her pretended friends i wish to overcome.’ ‘where do these friends reside?’ ‘near this spot.’ the old man. ‘who are you?’ at that instant my father entered the chamber. the shutters had been thrown back and with a devouring maladie du pays to see once more the blue lake and snow-clad mountains—they never change; and i think our placid home and our contented hearts are regulated by the same immutable laws. my trifling occupations take up my time and amuse me and i hasten to their arms. farewell walton! seek happiness in tranquillity and avoid ambition even if it be all true if indeed i did not feel the inconvenience of the weather; my imagination was vivid yet my powers of analysis and application were intense; by the union of these qualities i conceived the idea of renewing my labours did not for one instant occur to me; solitude was my only nurse. i afterwards found was coarse but it was all a dream; i sometimes doubted if indeed it were all true for it never presented itself to my mind with the sights of heaven and earth that i desired to see my native land perhaps for many years in affluence respected by his superiors and beloved by his equals. his son was bred in the service of his country. he became the victim of its weakness.\n"
     ]
    }
   ],
   "source": [
    "print(sentence_builder(suffix_map_1, suffix_map_2, suffix_map_3, suffix_map_4, corpus))"
   ]
  }
 ],
 "metadata": {
  "kernelspec": {
   "display_name": "Python 3",
   "language": "python",
   "name": "python3"
  },
  "language_info": {
   "codemirror_mode": {
    "name": "ipython",
    "version": 3
   },
   "file_extension": ".py",
   "mimetype": "text/x-python",
   "name": "python",
   "nbconvert_exporter": "python",
   "pygments_lexer": "ipython3",
   "version": "3.9.2"
  }
 },
 "nbformat": 4,
 "nbformat_minor": 5
}
