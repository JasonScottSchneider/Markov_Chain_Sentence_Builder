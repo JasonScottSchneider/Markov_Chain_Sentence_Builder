{
 "cells": [
  {
   "cell_type": "markdown",
   "id": "civil-wilson",
   "metadata": {},
   "source": [
    "# Markov Chain Sentence Builder\n",
    "This is a program to build random sentences based on the data with sentences fed into it. This program uses a simple Markov chain that checks at every one and/or two words and/or three words in which the user can choose the number of Markov chains to be applied."
   ]
  },
  {
   "cell_type": "markdown",
   "id": "metric-pathology",
   "metadata": {},
   "source": [
    "## Import Libraries"
   ]
  },
  {
   "cell_type": "code",
   "execution_count": 1,
   "id": "tutorial-dispute",
   "metadata": {},
   "outputs": [],
   "source": [
    "import random\n",
    "from collections import defaultdict"
   ]
  },
  {
   "cell_type": "markdown",
   "id": "bronze-spelling",
   "metadata": {},
   "source": [
    "## Load and Process Corpus"
   ]
  },
  {
   "cell_type": "code",
   "execution_count": 2,
   "id": "working-consultation",
   "metadata": {},
   "outputs": [],
   "source": [
    "def load_training_file(file):\n",
    "    with open(file) as f:\n",
    "        raw_sentences = f.read()\n",
    "        return raw_sentences\n",
    "\n",
    "def prep_training(raw_sentences):\n",
    "    raw_sentences = raw_sentences.lower()\n",
    "    raw_sentences = raw_sentences.strip(\",_”“:;\")\n",
    "    raw_sentences = raw_sentences.replace(' \\'', \"\")    \n",
    "    raw_sentences = raw_sentences.replace('\\' ' , \"\")    \n",
    "    raw_sentences = raw_sentences.replace(',', \"\")\n",
    "    raw_sentences = raw_sentences.replace('\"', \"\")\n",
    "    raw_sentences = raw_sentences.replace('_', \"\")\n",
    "    raw_sentences = raw_sentences.replace('”', \"\")\n",
    "    raw_sentences = raw_sentences.replace('“', \"\")\n",
    "    raw_sentences = raw_sentences.replace(':', \" :\")\n",
    "    raw_sentences = raw_sentences.replace(';', \" ;\")\n",
    "    raw_sentences = raw_sentences.replace('.', \" .\")\n",
    "    raw_sentences = raw_sentences.replace('!', \" !\")\n",
    "    raw_sentences = raw_sentences.replace('?', \" ?\")\n",
    "    corpus = raw_sentences.replace('\\n',' ').split()\n",
    "    return corpus"
   ]
  },
  {
   "cell_type": "markdown",
   "id": "understanding-ownership",
   "metadata": {},
   "source": [
    "## Build Markov Models"
   ]
  },
  {
   "cell_type": "code",
   "execution_count": 3,
   "id": "republican-january",
   "metadata": {},
   "outputs": [],
   "source": [
    "def map_word_to_word(corpus):\n",
    "    limit = len(corpus) - 1\n",
    "    dict1_to_1 = defaultdict(list)\n",
    "    for index, word in enumerate(corpus):\n",
    "        if index < limit:\n",
    "            suffix = corpus[index + 1]\n",
    "            dict1_to_1[word].append(suffix)\n",
    "    return dict1_to_1\n",
    "\n",
    "def map_2_words_to_word(corpus):\n",
    "    limit = len(corpus) - 2\n",
    "    dict2_to_1 = defaultdict(list)\n",
    "    for index, word in enumerate(corpus):\n",
    "        if index < limit:\n",
    "            key = word + ' ' + corpus[index + 1]\n",
    "            suffix = corpus[index + 2]\n",
    "            dict2_to_1[key].append(suffix)\n",
    "    return dict2_to_1\n",
    "\n",
    "def map_3_words_to_word(corpus):\n",
    "    limit = len(corpus) - 3\n",
    "    dict3_to_1 = defaultdict(list)\n",
    "    for index, word in enumerate(corpus):\n",
    "        if index < limit:\n",
    "            key = word + ' ' + corpus[index + 1] + ' ' + corpus[index + 2]\n",
    "            suffix = corpus[index + 3]\n",
    "            dict3_to_1[key].append(suffix)\n",
    "    return dict3_to_1\n",
    "\n",
    "def map_4_words_to_word(corpus):\n",
    "    limit = len(corpus) - 4\n",
    "    dict4_to_1 = defaultdict(list)\n",
    "    for index, word in enumerate(corpus):\n",
    "        if index < limit:\n",
    "            key = word + ' ' + corpus[index + 1] + ' ' + corpus[index + 2] + ' ' + corpus[index + 3]\n",
    "            suffix = corpus[index + 4]\n",
    "            dict4_to_1[key].append(suffix)\n",
    "    return dict4_to_1"
   ]
  },
  {
   "cell_type": "markdown",
   "id": "veterinary-plasma",
   "metadata": {},
   "source": [
    "## Select Random Seed"
   ]
  },
  {
   "cell_type": "code",
   "execution_count": 4,
   "id": "unknown-agency",
   "metadata": {},
   "outputs": [],
   "source": [
    "def random_word(corpus):            \n",
    "    seed = input(\"Enter a word to start a sentence: \")\n",
    "    if seed in corpus:\n",
    "        word = seed\n",
    "    else:\n",
    "        word = None\n",
    "        print(\"Try another word as a seed that exists in the corpus used.\")      \n",
    "    return word"
   ]
  },
  {
   "cell_type": "markdown",
   "id": "armed-anxiety",
   "metadata": {},
   "source": [
    "## Apply the Markov Models"
   ]
  },
  {
   "cell_type": "code",
   "execution_count": 5,
   "id": "collect-enzyme",
   "metadata": {},
   "outputs": [],
   "source": [
    "def word_after_single(prefix, suffix_map_1):\n",
    "    accepted_words = []\n",
    "    suffixes = suffix_map_1.get(prefix)\n",
    "    if suffixes != None:\n",
    "        for candidate in suffixes:\n",
    "            accepted_words.append(candidate)\n",
    "    return accepted_words\n",
    "\n",
    "def  word_after_double(prefix, suffix_map_2):\n",
    "    accepted_words = []\n",
    "    suffixes = suffix_map_2.get(prefix)\n",
    "    if suffixes != None:\n",
    "        for candidate in suffixes:\n",
    "            accepted_words.append(candidate)\n",
    "    return accepted_words\n",
    "\n",
    "def  word_after_triple(prefix, suffix_map_3):\n",
    "    accepted_words = []\n",
    "    suffixes = suffix_map_3.get(prefix)\n",
    "    if suffixes != None:\n",
    "        for candidate in suffixes:\n",
    "            accepted_words.append(candidate)\n",
    "    return accepted_words\n",
    "\n",
    "def  word_after_quadruple(prefix, suffix_map_4):\n",
    "    accepted_words = []\n",
    "    suffixes = suffix_map_4.get(prefix)\n",
    "    if suffixes != None:\n",
    "        for candidate in suffixes:\n",
    "            accepted_words.append(candidate)\n",
    "    return accepted_words"
   ]
  },
  {
   "cell_type": "markdown",
   "id": "sustained-emphasis",
   "metadata": {},
   "source": [
    "## Build a Sentence"
   ]
  },
  {
   "cell_type": "code",
   "execution_count": 6,
   "id": "seven-brick",
   "metadata": {},
   "outputs": [],
   "source": [
    "def sentence_builder(suffix_map_1, suffix_map_2, suffix_map_3, suffix_map_4, corpus):\n",
    "    final_sentence = \"\"\n",
    "    try:\n",
    "        number_of_sentences = int(input(\"How many sentences do you want? \"))\n",
    "        number_of_markov_chains = int(input(\"Choose 1, 2, or 3 Markov chains to be applied. How many Markov chains would you want to apply? \"))\n",
    "    except:\n",
    "        print(\"You entered something other than integers. Enter only integers.\")\n",
    "        return final_sentence\n",
    "    stop_characters = [\".\",\"!\",\"?\"]\n",
    "    current_sentence = []\n",
    "    word = random_word(corpus)    \n",
    "    keep_building = True\n",
    "    if word != None:\n",
    "        current_sentence.append(word)         \n",
    "        for i in range(number_of_sentences):\n",
    "            keep_building = True      \n",
    "            while keep_building == True:\n",
    "                if number_of_markov_chains == 1:\n",
    "                    if len(current_sentence) > 1:\n",
    "                        if current_sentence[-1] == \":\" or current_sentence[-1] == \";\" or current_sentence[-2] == \":\" or current_sentence[-2] == \";\":\n",
    "                            word = current_sentence[-2] + ' ' + current_sentence[-1]\n",
    "                            word_choices = word_after_double(word, suffix_map_2)\n",
    "                        else:\n",
    "                            word_choices = word_after_single(word, suffix_map_1)\n",
    "                    elif len(current_sentence) == 1:                                           \n",
    "                        word_choices = word_after_single(word, suffix_map_1)\n",
    "                    word = random.choice(word_choices)\n",
    "                    current_sentence.append(word)\n",
    "                    if any(character in word[-1] for character in stop_characters):\n",
    "                        keep_building = False\n",
    "                        break\n",
    "                elif number_of_markov_chains == 2:\n",
    "                    if len(current_sentence) >= 2:\n",
    "                        if current_sentence[-1] == \":\" and len(current_sentence) > 2 or current_sentence[-1] == \";\" and len(current_sentence) > 2 or current_sentence[-2] == \":\" and len(current_sentence) > 2 or current_sentence[-2] == \";\" and len(current_sentence) > 2:\n",
    "                            prefix = current_sentence[-3] + ' ' + current_sentence[-2] + ' ' + current_sentence[-1]\n",
    "                            word_choices = word_after_triple(prefix, suffix_map_3)                        \n",
    "                        else:   \n",
    "                            prefix = current_sentence[-2] + ' ' + current_sentence[-1]\n",
    "                            word_choices = word_after_double(prefix, suffix_map_2)\n",
    "                        word = random.choice(word_choices)\n",
    "                        current_sentence.append(word)\n",
    "                        if any(character in word[-1] for character in stop_characters):\n",
    "                            keep_building = False\n",
    "                            break\n",
    "                    elif len(current_sentence) <= 1:\n",
    "                        word_choices = word_after_single(word, suffix_map_1)\n",
    "                        word = random.choice(word_choices)\n",
    "                        current_sentence.append(word)\n",
    "                        if any(character in word[-1] for character in stop_characters):\n",
    "                            keep_building = False\n",
    "                            break\n",
    "                elif number_of_markov_chains == 3:\n",
    "                    if len(current_sentence) >= 3:\n",
    "                        if current_sentence[-1] == \":\" and len(current_sentence) > 3  or current_sentence[-1] == \";\" and len(current_sentence) > 3 or current_sentence[-2] == \":\" and len(current_sentence) > 3  or current_sentence[-2] == \";\" and len(current_sentence) > 3 or current_sentence[-3] == \":\" and len(current_sentence) > 3  or current_sentence[-3] == \";\" and len(current_sentence) > 3:\n",
    "                            prefix = current_sentence[-4] + ' ' + current_sentence[-3] + ' ' + current_sentence[-2] + ' ' + current_sentence[-1]\n",
    "                            word_choices = word_after_quadruple(prefix, suffix_map_4)                        \n",
    "                        else:   \n",
    "                            prefix = current_sentence[-3] + ' ' + current_sentence[-2] + ' ' + current_sentence[-1]\n",
    "                            word_choices = word_after_triple(prefix, suffix_map_3)\n",
    "                        word = random.choice(word_choices)\n",
    "                        current_sentence.append(word)\n",
    "                        if any(character in word[-1] for character in stop_characters):\n",
    "                            keep_building = False\n",
    "                            break\n",
    "                    elif len(current_sentence) == 2:\n",
    "                        prefix = current_sentence[-2] + ' ' + current_sentence[-1]\n",
    "                        word_choices = word_after_double(prefix, suffix_map_2)\n",
    "                        word = random.choice(word_choices)\n",
    "                        current_sentence.append(word)\n",
    "                        if any(character in word[-1] for character in stop_characters):\n",
    "                            keep_building = False\n",
    "                            break\n",
    "                    elif len(current_sentence) <= 1:                                          \n",
    "                        word_choices = word_after_single(word, suffix_map_1)\n",
    "                        word = random.choice(word_choices)\n",
    "                        current_sentence.append(word)\n",
    "                        if any(character in word[-1] for character in stop_characters):\n",
    "                            keep_building = False\n",
    "                            break\n",
    "                else:\n",
    "                    print(\"You entered an integer of Markov chains either less than 1 or more than 3, which are not available options to choose. Please only choose 1, 2, or 3 Markov chains to be applied.\")\n",
    "    else:\n",
    "        pass\n",
    "    for i in current_sentence:\n",
    "        if final_sentence == \"\":\n",
    "            final_sentence = final_sentence + i\n",
    "        else:\n",
    "            final_sentence = final_sentence + ' ' + i\n",
    "    final_sentence = final_sentence.replace(' :', \":\")\n",
    "    final_sentence = final_sentence.replace(' ;', \";\")\n",
    "    final_sentence = final_sentence.replace(' .', \".\")\n",
    "    final_sentence = final_sentence.replace(' ?', \"?\")\n",
    "    final_sentence = final_sentence.replace(' !', \"!\")\n",
    "    return final_sentence"
   ]
  },
  {
   "cell_type": "markdown",
   "id": "solved-county",
   "metadata": {},
   "source": [
    "## Code to Generate Random Sentences"
   ]
  },
  {
   "cell_type": "code",
   "execution_count": 7,
   "id": "approved-scholarship",
   "metadata": {},
   "outputs": [],
   "source": [
    "raw_sentences = load_training_file(\"Frankenstein.txt\")\n",
    "corpus = prep_training(raw_sentences)\n",
    "suffix_map_1 = map_word_to_word(corpus)\n",
    "suffix_map_2 = map_2_words_to_word(corpus)\n",
    "suffix_map_3 = map_3_words_to_word(corpus)\n",
    "suffix_map_4 = map_4_words_to_word(corpus)"
   ]
  },
  {
   "cell_type": "code",
   "execution_count": 8,
   "id": "wooden-costs",
   "metadata": {},
   "outputs": [
    {
     "name": "stdout",
     "output_type": "stream",
     "text": [
      "How many sentences do you want? 30\n",
      "Choose 1, 2, or 3 Markov chains to be applied. How many Markov chains would you want to apply? 1\n",
      "Enter a word to start a sentence: the\n",
      "the day and all the villain. he was something new incident happened; my ashes this suspense; yet at the sufferings i it is not help supposing all judges from my boy’s apprehensions. i shunned and wandered here some future maintenance. agatha and nights clear morning we were called to give you have lately living torture such was i will not then hanging round me with the fiend rang in a rock. but it was agonised with the streets of my desire as night wretchedly. i have exchanged our captain offered me in death; my lips and i should take my fellow beings who asked her hands a more time before dark speck upon their sympathies—as if you were directed to dawn i may have preserved my character and yet ever-changing scene has this to occupy herself of which promised gift i cannot be fulfilled and sense of returning to possess me aside and glory; i followed speedily sinks again to our feelings now know the horizon when suddenly arrested by the threat as the history where nothing could only exist in me that of solitude was i am practically industrious—painstaking a female for the streets; the sun does not afford them when i not discompose yourself in my future plans of the best years of sexes and sincerely hope which an invisible world than a happiness or i felt the irradiation of light of whether i saw with the blooming and make me thy part of my food to raise me than the sun setting sun or i departed after this difficulty the fair wind favourable interpretation where i carefully traced the tenets of his religion and knew that these deserving. i shall do not a dream was a human knowledge he did the ancient and sat by ties and happier childhood and proceeded by change with hope my father a steeple and considerateness whenever the paddling of our pride and consternation and miserable hours. but the beginning to discover if you should not to life or was occupied as i revolved these letters of the fiend and real information necessary and happy earth nor can conceive the spot.’ the pain. but the breeze blows fairly and the neighbourhood of cultivation. i arrived from which i feel this monster whom we had nursed from the portrait securely in the third day takes place in this? could have yourself as night i now elizabeth: my dearest niece said the trial which these friends dear sister especially as their delight—his elizabeth. remember to die! i was tormented me to quit you have been perceived the evil thenceforth to ingolstadt its works of the knowledge. it was a transparent pool! i still fixed on the dæmon more supple; and how can distinguish between the wind; the murder. my father which indicated the deaths of these were safe; but my first touched the distance of my father indeed a remarkably early years old man? agatha who had taken towards the god! my victor—tomorrow he continued a fair. justine that conflagration will unreservedly confide in search than that although i should comply. his request i might happen to dwell as belonging to death she also disconcerted on which must now swallowed up in a letter on board ship for the ceremony was able to have murdered friend but it supposed mad and proceeded her countenance as anything to undertake my weakness. well as we entered the late-discovered unworthiness of my mind? no terms with a hell fire and death has outstript us. i entered his rival together and i was the mountain is knowledge of your frame the decision which all thou drivest from the world; but do not know not conceive how happy before my warmest admiration. his feelings of my own misery to me; but the sun which i shall not endure the near the salubrious air of beauty. i viewed my sorrows which prevail on giving an end; her smile that such as if i issued into his daughter had better feelings were associated with horror. he entered his creature in the birds and condition for a portrait securely in geneva. whether my heart to this line of the thought; a darkness then again seek for god’s sake as a consolation for my mind that i had used and it. i discovered from curiosity with respect her own. fortunately i cannot convey to the words will only had been a criminal as that if we beheld clerval and so gentle to the bottom. the bleak forest near a speech troubled me from his credit that the church of their right for only one of the precious wealth.\n"
     ]
    }
   ],
   "source": [
    "print(sentence_builder(suffix_map_1, suffix_map_2, suffix_map_3, suffix_map_4, corpus))"
   ]
  },
  {
   "cell_type": "code",
   "execution_count": 9,
   "id": "incident-disabled",
   "metadata": {},
   "outputs": [
    {
     "name": "stdout",
     "output_type": "stream",
     "text": [
      "How many sentences do you want? 30\n",
      "Choose 1, 2, or 3 Markov chains to be applied. How many Markov chains would you want to apply? 2\n",
      "Enter a word to start a sentence: the\n",
      "the sanguinary laws of electricity and galvanism which was to rob me of my ability to give life to whom she had nursed from its birth and growth of our own situation. the poor animals that crossed my path. the brave fellows whom i was. the delight i felt this delay very bitterly; for i had no fear therefore that he shall have softened your despair new and mightier scenes of nature and rashly and ignorantly i had why should i by my younger protectors. i approached the road; i heard of even in these wild and enthusiastic imagination was dreadful in itself sufficient beauty to obtain the liberty of his sentence was pronounced and i feel so many men of genius however erroneously directed scarcely ever fail in my face and said ‘good night sweet safie.’ he sat absorbed in reflection. then again the frost came and made the paths of the loved felix were not for me; but utter carelessness was visible whitewashed and clean but very bare of furniture. in this narration to state those facts which they stood as signs? i know not; i lost sensation and chains and look forward to our union had been perceived by a gloomy despair as a recompense i now swallowed double my usual quantity and soon the bolt has entered my soul; and i only wonder that omnipotent as the effects of the simplest and tenderest affection. he heard with attention and time explained to me treasures known to the ground. i remained in this journey. we do also unfortunately replied my brother and i hope i sincerely hope that your feelings! but i answered when frankenstein who had often during my accustomed visit to geneva but my thoughts when the sun had set and the fire gave light as well try to overtake the winds or confine a mountain-stream with a tremulous and eager hope which the occurrences of the information which m. krempe had now nearly elapsed since the departure of my employment loathsome in itself would for ever robbed of all that related to my father loved beaufort with the blackest ingratitude. she was tranquil and the traveller with our scotch friend approached and we followed the relinquishing of my being is wound to its boundary which was felt but not sufficiently to follow his track which we ought to render him happy before i was scarcely hid when a strange nature is knowledge! it was already considerably advanced. i exchanged my land-sledge for one blasted and miserable fears to contemplate the deep grief which this tale of horrors; i have visited the professors. chance—or rather the evil principle and at last in a great attachment for her virtues and a free man. these motives urged me forward; i seemed to me than my own when i heard the sound of joy and ran down to eat me and for many hours upon the beach. with new courage therefore i pressed on but in every other circumstance of existence and the excellent felix flitted before me; the threat i had to me yet i cannot describe the delight of clerval. sometimes i could perceive often endeavoured to encourage his children had departed he took up his guitar and the arabian retired early. when the old man and hide himself in a fit of enthusiastic frenzy had blinded me to seek that justice which i distinguished the insect from the fever of my beloved cottagers. in this manner. it was the murderer of william and ernest; but these are my countryman; are you always to be harmless; but have you he has indeed taken refuge in the prison he found that he was alive to every branch of natural philosophy. he was acquainted appeared even to the rushing of the globe; i shall repose in peace and beauty your native town and a silence ensued. i sat down to clerval. he said really spent your time upon this; it is useless; my fate; the men brought me and think of the occurrences of the trees that shaded my window. never was she so enchanting as at this discovery was so rapid the overthrow so complete! morning dismal and wet in the noble spirit of elder days found a great quantity of provision which i was bound by ties only dissoluble by the wildest dreams. the presence of another would destroy the cause and busied myself in his desolation; i am poor and an entire revolution of the assizes approached. i was; so frightful an event that would quit its native country.\n"
     ]
    }
   ],
   "source": [
    "print(sentence_builder(suffix_map_1, suffix_map_2, suffix_map_3, suffix_map_4, corpus))"
   ]
  },
  {
   "cell_type": "code",
   "execution_count": 10,
   "id": "descending-yacht",
   "metadata": {},
   "outputs": [
    {
     "name": "stdout",
     "output_type": "stream",
     "text": [
      "How many sentences do you want? 30\n",
      "Choose 1, 2, or 3 Markov chains to be applied. How many Markov chains would you want to apply? 3\n",
      "Enter a word to start a sentence: the\n",
      "the moment; and my present sensations strongly intimated that the fiend followed me and would discover himself to me when i felt the cheering warmth of summer and although not so warm as in england the southern gales which blow us speedily towards those shores which i so much desire; or must i die and he yet live? if i succeed many many months perhaps years will pass before you and have no cause for despair. but i—i have lost everything and cannot begin life anew. as he went on i felt as if he had been out the whole of our good uncle thomas’ library. my education was neglected yet i was passionately fond of reading. these volumes were my study day and night and my familiarity with them increased that regret which i had until now sought to forget: the whole train of my ideas. when i run over the frightful catalogue of my sins i cannot believe that i am moralizing in the most perfect solitude. i passed an hour in this state of degradation. despondency rarely visited my heart; a high destiny seemed to bear me on until i fell never never again to rise. suddenly a heavy storm of rain descended. i had gazed upon the fortifications and impediments that seemed to keep human beings from entering the citadel of nature and the mysterious soul of man that occupied me still my inquiries were directed to the metaphysical or in its highest sense the physical secrets of the human frame and render man invulnerable to any but a violent death! nor were these my only visions. the raising of ghosts or devils was a promise liberally accorded by my favourite authors the fulfilment of my destiny. in that hour i should die and at once satisfy and extinguish his malice. the prospect of the sun setting behind the stupendous mountains of jura and the thunder burst with a terrific crash over my head. it was a bold question and one which has ever been considered as the ravings of insanity. besides the strange nature of the animal would elude all pursuit even if i were placed under a ban—as if i had been as i then was in height and proportionably large. after having made a few preparatory experiments he concluded with a panegyric upon modern chemistry the terms of which i did not comprehend but i saw no cause for despair. but i—i have lost everything and cannot begin life anew. as he said this; his face was wrinkled into contortions too horrible for human eyes. but i will not doubt that he hovers near the spot where these scenes had taken place since you left us but one change has taken place in me; my health which had hitherto declined was now much restored; and my spirits are often depressed. i am interrupted. what do these sounds portend? it is also a duty owed to yourself for excessive sorrow prevents improvement or enjoyment or even the discharge of daily usefulness without which no man is fit for society. this advice although good was totally inapplicable to my case; i should have sunk under my multiplied hardships into a death which i still dread for my task is unfulfilled. oh! how unlike it was to be procured from the mainland which was about five in the morning and i longed to console and sympathise with my loved and sorrowing friends; but when i contemplated the lake: the waters were placid; all around was calm; and the snowy mountains the palaces of nature were not changed. by degrees the calm and heavenly scene restored me and i am no coward to bend beneath words. leave me; i am inexorable. it is indeed a tale so strange that i should make use of the same opinion and that confirms me.\n"
     ]
    }
   ],
   "source": [
    "print(sentence_builder(suffix_map_1, suffix_map_2, suffix_map_3, suffix_map_4, corpus))"
   ]
  }
 ],
 "metadata": {
  "kernelspec": {
   "display_name": "Python 3",
   "language": "python",
   "name": "python3"
  },
  "language_info": {
   "codemirror_mode": {
    "name": "ipython",
    "version": 3
   },
   "file_extension": ".py",
   "mimetype": "text/x-python",
   "name": "python",
   "nbconvert_exporter": "python",
   "pygments_lexer": "ipython3",
   "version": "3.9.2"
  }
 },
 "nbformat": 4,
 "nbformat_minor": 5
}
